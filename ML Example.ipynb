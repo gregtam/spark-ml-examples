{
 "cells": [
  {
   "cell_type": "markdown",
   "metadata": {},
   "source": [
    "Links to other notebooks in the same folder:\n",
    "<a href='http://pivotal.io/data-science'><img src='https://raw.githubusercontent.com/crawles/Logos/master/Pivotal_TealOnWhite.png' width='200px' align='right'></a>\n",
    "\n",
    "<nav class=\"navbar navbar-light bg-faded\">\n",
    "    <ul class=\"nav navbar-nav\">\n",
    "        <li class=\"\">\n",
    "            <a class=\"nav-link\" href=\"MLlib Example.ipynb\">MLlib Example</a>\n",
    "        </li>\n",
    "        <li class=\"\">\n",
    "            <a class=\"nav-link\">ML Example</a>\n",
    "        </li>\n"
   ]
  },
  {
   "cell_type": "markdown",
   "metadata": {
    "toc": "true"
   },
   "source": [
    "# Table of Contents\n",
    " <p><div class=\"lev1 toc-item\"><a href=\"#Import-useful-libraries\" data-toc-modified-id=\"Import-useful-libraries-1\"><span class=\"toc-item-num\">1&nbsp;&nbsp;</span>Import useful libraries</a></div><div class=\"lev1 toc-item\"><a href=\"#Data\" data-toc-modified-id=\"Data-2\"><span class=\"toc-item-num\">2&nbsp;&nbsp;</span>Data</a></div><div class=\"lev2 toc-item\"><a href=\"#Spark-DataFrames\" data-toc-modified-id=\"Spark-DataFrames-21\"><span class=\"toc-item-num\">2.1&nbsp;&nbsp;</span>Spark DataFrames</a></div><div class=\"lev1 toc-item\"><a href=\"#Operations-on-DataFrames\" data-toc-modified-id=\"Operations-on-DataFrames-3\"><span class=\"toc-item-num\">3&nbsp;&nbsp;</span>Operations on DataFrames</a></div><div class=\"lev1 toc-item\"><a href=\"#Modelling\" data-toc-modified-id=\"Modelling-4\"><span class=\"toc-item-num\">4&nbsp;&nbsp;</span>Modelling</a></div><div class=\"lev1 toc-item\"><a href=\"#Pipeline\" data-toc-modified-id=\"Pipeline-5\"><span class=\"toc-item-num\">5&nbsp;&nbsp;</span>Pipeline</a></div><div class=\"lev1 toc-item\"><a href=\"#Extracting-the-Probability\" data-toc-modified-id=\"Extracting-the-Probability-6\"><span class=\"toc-item-num\">6&nbsp;&nbsp;</span>Extracting the Probability</a></div>"
   ]
  },
  {
   "cell_type": "markdown",
   "metadata": {},
   "source": [
    "# Import useful libraries"
   ]
  },
  {
   "cell_type": "code",
   "execution_count": 1,
   "metadata": {
    "ExecuteTime": {
     "end_time": "2017-06-20T18:19:06.963610Z",
     "start_time": "2017-06-20T18:19:05.955938Z"
    },
    "collapsed": true
   },
   "outputs": [],
   "source": [
    "from datetime import datetime\n",
    "from dateutil.relativedelta import relativedelta\n",
    "import getopt\n",
    "import os\n",
    "import sys\n",
    "import urllib\n",
    "\n",
    "from IPython.core.display import display, HTML\n",
    "from IPython.core.magic import register_cell_magic, register_line_cell_magic,\\\n",
    "                               register_line_magic\n",
    "%matplotlib inline\n",
    "import matplotlib.pyplot as plt\n",
    "import numpy as np\n",
    "import pandas as pd\n",
    "import pandas.io.sql as psql\n",
    "import psycopg2\n",
    "import seaborn as sns\n",
    "\n",
    "from pyspark.ml.classification import LogisticRegression,\\\n",
    "                                      RandomForestClassifier\n",
    "from pyspark.ml.feature import VectorAssembler, StandardScaler, StringIndexer\n",
    "from pyspark.ml import Pipeline\n",
    "from pyspark.sql import Row\n",
    "import pyspark.sql.functions as F\n",
    "from pyspark.sql.functions import col"
   ]
  },
  {
   "cell_type": "code",
   "execution_count": 2,
   "metadata": {
    "ExecuteTime": {
     "end_time": "2017-06-20T18:19:07.119797Z",
     "start_time": "2017-06-20T18:19:06.965308Z"
    }
   },
   "outputs": [
    {
     "data": {
      "text/html": [
       "<script>logo = document.getElementById(\"kernel_logo_widget\").getElementsByClassName(\"current_kernel_logo\")[0];\n",
       "logo.src = \"https://github.com/crawles/Logos/blob/master/Pivotal_Python_138x40.png?raw=true\";\n",
       "logo.style = \"display: inline; width:138px; height:40px\";\n",
       "logo.innerHTML = '<a href=\"http://pivotal.io/data-science\">' + logo.innerHTML + '</a>';\n",
       "</script>"
      ],
      "text/plain": [
       "<IPython.core.display.HTML object>"
      ]
     },
     "execution_count": 2,
     "metadata": {},
     "output_type": "execute_result"
    }
   ],
   "source": [
    "# Changes logo to a Pivotal logo\n",
    "jPrefs = urllib.urlopen(\"https://raw.githubusercontent.com/crawles/Logos/master/jupyterPrefs.js\").read()\n",
    "HTML('<script>{}</script>'.format(jPrefs))"
   ]
  },
  {
   "cell_type": "code",
   "execution_count": 3,
   "metadata": {
    "ExecuteTime": {
     "end_time": "2017-06-20T18:19:07.154486Z",
     "start_time": "2017-06-20T18:19:07.121117Z"
    }
   },
   "outputs": [
    {
     "data": {
      "text/html": [
       "<style>.container {width:80% !important;}</style>"
      ],
      "text/plain": [
       "<IPython.core.display.HTML object>"
      ]
     },
     "metadata": {},
     "output_type": "display_data"
    }
   ],
   "source": [
    "# Set default cell width\n",
    "display(HTML('<style>.container {width:80% !important;}</style>'))\n",
    "\n",
    "# Set default matplotlib settings\n",
    "plt.rcParams['figure.figsize'] = (10, 7)\n",
    "plt.rcParams['lines.linewidth'] = 3\n",
    "plt.rcParams['figure.titlesize'] = 26\n",
    "plt.rcParams['axes.labelsize'] = 18\n",
    "plt.rcParams['axes.titlesize'] = 22\n",
    "plt.rcParams['xtick.labelsize'] = 14\n",
    "plt.rcParams['ytick.labelsize'] = 14\n",
    "plt.rcParams['legend.fontsize'] = 16\n",
    "\n",
    "# Set seaborn colours\n",
    "blue, green, red, purple, yellow, cyan = sns.color_palette('deep')"
   ]
  },
  {
   "cell_type": "markdown",
   "metadata": {},
   "source": [
    "# Data"
   ]
  },
  {
   "cell_type": "code",
   "execution_count": 4,
   "metadata": {
    "ExecuteTime": {
     "end_time": "2017-06-20T18:19:07.201127Z",
     "start_time": "2017-06-20T18:19:07.155804Z"
    }
   },
   "outputs": [
    {
     "data": {
      "text/html": [
       "<div>\n",
       "<style>\n",
       "    .dataframe thead tr:only-child th {\n",
       "        text-align: right;\n",
       "    }\n",
       "\n",
       "    .dataframe thead th {\n",
       "        text-align: left;\n",
       "    }\n",
       "\n",
       "    .dataframe tbody tr th {\n",
       "        vertical-align: top;\n",
       "    }\n",
       "</style>\n",
       "<table border=\"1\" class=\"dataframe\">\n",
       "  <thead>\n",
       "    <tr style=\"text-align: right;\">\n",
       "      <th></th>\n",
       "      <th>sex</th>\n",
       "      <th>length</th>\n",
       "      <th>diameter</th>\n",
       "      <th>height</th>\n",
       "      <th>whole weight</th>\n",
       "      <th>shucked weight</th>\n",
       "      <th>viscera weight</th>\n",
       "      <th>shell weight</th>\n",
       "      <th>rings</th>\n",
       "    </tr>\n",
       "  </thead>\n",
       "  <tbody>\n",
       "    <tr>\n",
       "      <th>0</th>\n",
       "      <td>2</td>\n",
       "      <td>0.455</td>\n",
       "      <td>0.365</td>\n",
       "      <td>0.095</td>\n",
       "      <td>0.5140</td>\n",
       "      <td>0.2245</td>\n",
       "      <td>0.1010</td>\n",
       "      <td>0.150</td>\n",
       "      <td>15</td>\n",
       "    </tr>\n",
       "    <tr>\n",
       "      <th>1</th>\n",
       "      <td>2</td>\n",
       "      <td>0.350</td>\n",
       "      <td>0.265</td>\n",
       "      <td>0.090</td>\n",
       "      <td>0.2255</td>\n",
       "      <td>0.0995</td>\n",
       "      <td>0.0485</td>\n",
       "      <td>0.070</td>\n",
       "      <td>7</td>\n",
       "    </tr>\n",
       "    <tr>\n",
       "      <th>2</th>\n",
       "      <td>0</td>\n",
       "      <td>0.530</td>\n",
       "      <td>0.420</td>\n",
       "      <td>0.135</td>\n",
       "      <td>0.6770</td>\n",
       "      <td>0.2565</td>\n",
       "      <td>0.1415</td>\n",
       "      <td>0.210</td>\n",
       "      <td>9</td>\n",
       "    </tr>\n",
       "    <tr>\n",
       "      <th>3</th>\n",
       "      <td>2</td>\n",
       "      <td>0.440</td>\n",
       "      <td>0.365</td>\n",
       "      <td>0.125</td>\n",
       "      <td>0.5160</td>\n",
       "      <td>0.2155</td>\n",
       "      <td>0.1140</td>\n",
       "      <td>0.155</td>\n",
       "      <td>10</td>\n",
       "    </tr>\n",
       "    <tr>\n",
       "      <th>4</th>\n",
       "      <td>1</td>\n",
       "      <td>0.330</td>\n",
       "      <td>0.255</td>\n",
       "      <td>0.080</td>\n",
       "      <td>0.2050</td>\n",
       "      <td>0.0895</td>\n",
       "      <td>0.0395</td>\n",
       "      <td>0.055</td>\n",
       "      <td>7</td>\n",
       "    </tr>\n",
       "  </tbody>\n",
       "</table>\n",
       "</div>"
      ],
      "text/plain": [
       "   sex  length  diameter  height  whole weight  shucked weight  \\\n",
       "0    2   0.455     0.365   0.095        0.5140          0.2245   \n",
       "1    2   0.350     0.265   0.090        0.2255          0.0995   \n",
       "2    0   0.530     0.420   0.135        0.6770          0.2565   \n",
       "3    2   0.440     0.365   0.125        0.5160          0.2155   \n",
       "4    1   0.330     0.255   0.080        0.2050          0.0895   \n",
       "\n",
       "   viscera weight  shell weight  rings  \n",
       "0          0.1010         0.150     15  \n",
       "1          0.0485         0.070      7  \n",
       "2          0.1415         0.210      9  \n",
       "3          0.1140         0.155     10  \n",
       "4          0.0395         0.055      7  "
      ]
     },
     "execution_count": 4,
     "metadata": {},
     "output_type": "execute_result"
    }
   ],
   "source": [
    "column_names = [\"sex\", \"length\", \"diameter\", \"height\", \"whole weight\", \n",
    "                \"shucked weight\", \"viscera weight\", \"shell weight\", \"rings\"]\n",
    "abalone_df = pd.read_csv('abalone.csv', names=column_names)\n",
    "abalone_df['sex'] = abalone_df['sex'].map({'F': 0, 'I': 1, 'M': 2})\n",
    "abalone_df.head()"
   ]
  },
  {
   "cell_type": "markdown",
   "metadata": {},
   "source": [
    "## Spark DataFrames\n",
    "Spark is moving towards DataFrames as opposed to RDDs.\n",
    "- <a href=\"https://databricks.com/blog/2015/02/17/introducing-dataframes-in-spark-for-large-scale-data-science.html\">https://databricks.com/blog/2015/02/17/introducing-dataframes-in-spark-for-large-scale-data-science.html</a>\n",
    "- <a href=\"https://www.quora.com/Why-are-there-two-ML-implementations-in-Spark-ML-and-MLlib-and-what-are-their-different-features\">https://www.quora.com/Why-are-there-two-ML-implementations-in-Spark-ML-and-MLlib-and-what-are-their-different-features</a>\n",
    "\n",
    "We will use the abalone data set for this example. We first take the Pandas DataFrame containing the abalone data and create a Spark DataFrame out of it. "
   ]
  },
  {
   "cell_type": "code",
   "execution_count": 5,
   "metadata": {
    "ExecuteTime": {
     "end_time": "2017-06-20T18:19:09.224721Z",
     "start_time": "2017-06-20T18:19:07.202458Z"
    },
    "collapsed": true
   },
   "outputs": [],
   "source": [
    "abalone_sdf = sqlContext.createDataFrame(abalone_df)"
   ]
  },
  {
   "cell_type": "markdown",
   "metadata": {
    "collapsed": true
   },
   "source": [
    "Under the RDD framework, the way to look at a subset of the data is to use the `take` function."
   ]
  },
  {
   "cell_type": "code",
   "execution_count": 6,
   "metadata": {
    "ExecuteTime": {
     "end_time": "2017-06-20T18:19:10.250779Z",
     "start_time": "2017-06-20T18:19:09.226282Z"
    }
   },
   "outputs": [
    {
     "data": {
      "text/plain": [
       "[Row(sex=2, length=0.455, diameter=0.365, height=0.095, whole weight=0.514, shucked weight=0.2245, viscera weight=0.10099999999999999, shell weight=0.15, rings=15),\n",
       " Row(sex=2, length=0.35, diameter=0.265, height=0.09, whole weight=0.2255, shucked weight=0.0995, viscera weight=0.0485, shell weight=0.07, rings=7),\n",
       " Row(sex=0, length=0.53, diameter=0.42, height=0.135, whole weight=0.677, shucked weight=0.2565, viscera weight=0.1415, shell weight=0.21, rings=9),\n",
       " Row(sex=2, length=0.44, diameter=0.365, height=0.125, whole weight=0.516, shucked weight=0.2155, viscera weight=0.114, shell weight=0.155, rings=10),\n",
       " Row(sex=1, length=0.33, diameter=0.255, height=0.08, whole weight=0.205, shucked weight=0.0895, viscera weight=0.0395, shell weight=0.055, rings=7)]"
      ]
     },
     "execution_count": 6,
     "metadata": {},
     "output_type": "execute_result"
    }
   ],
   "source": [
    "abalone_sdf.take(5)"
   ]
  },
  {
   "cell_type": "markdown",
   "metadata": {},
   "source": [
    "However, we can see that this returns a list of `Row` types. This is not very pretty. We can instead take a `limit` and then use the `toPandas` function to convert the Spark DataFrame to a Pandas DataFrame."
   ]
  },
  {
   "cell_type": "code",
   "execution_count": 7,
   "metadata": {
    "ExecuteTime": {
     "end_time": "2017-06-20T18:19:10.372826Z",
     "start_time": "2017-06-20T18:19:10.252162Z"
    }
   },
   "outputs": [
    {
     "data": {
      "text/html": [
       "<div>\n",
       "<style>\n",
       "    .dataframe thead tr:only-child th {\n",
       "        text-align: right;\n",
       "    }\n",
       "\n",
       "    .dataframe thead th {\n",
       "        text-align: left;\n",
       "    }\n",
       "\n",
       "    .dataframe tbody tr th {\n",
       "        vertical-align: top;\n",
       "    }\n",
       "</style>\n",
       "<table border=\"1\" class=\"dataframe\">\n",
       "  <thead>\n",
       "    <tr style=\"text-align: right;\">\n",
       "      <th></th>\n",
       "      <th>sex</th>\n",
       "      <th>length</th>\n",
       "      <th>diameter</th>\n",
       "      <th>height</th>\n",
       "      <th>whole weight</th>\n",
       "      <th>shucked weight</th>\n",
       "      <th>viscera weight</th>\n",
       "      <th>shell weight</th>\n",
       "      <th>rings</th>\n",
       "    </tr>\n",
       "  </thead>\n",
       "  <tbody>\n",
       "    <tr>\n",
       "      <th>0</th>\n",
       "      <td>2</td>\n",
       "      <td>0.455</td>\n",
       "      <td>0.365</td>\n",
       "      <td>0.095</td>\n",
       "      <td>0.5140</td>\n",
       "      <td>0.2245</td>\n",
       "      <td>0.1010</td>\n",
       "      <td>0.150</td>\n",
       "      <td>15</td>\n",
       "    </tr>\n",
       "    <tr>\n",
       "      <th>1</th>\n",
       "      <td>2</td>\n",
       "      <td>0.350</td>\n",
       "      <td>0.265</td>\n",
       "      <td>0.090</td>\n",
       "      <td>0.2255</td>\n",
       "      <td>0.0995</td>\n",
       "      <td>0.0485</td>\n",
       "      <td>0.070</td>\n",
       "      <td>7</td>\n",
       "    </tr>\n",
       "    <tr>\n",
       "      <th>2</th>\n",
       "      <td>0</td>\n",
       "      <td>0.530</td>\n",
       "      <td>0.420</td>\n",
       "      <td>0.135</td>\n",
       "      <td>0.6770</td>\n",
       "      <td>0.2565</td>\n",
       "      <td>0.1415</td>\n",
       "      <td>0.210</td>\n",
       "      <td>9</td>\n",
       "    </tr>\n",
       "    <tr>\n",
       "      <th>3</th>\n",
       "      <td>2</td>\n",
       "      <td>0.440</td>\n",
       "      <td>0.365</td>\n",
       "      <td>0.125</td>\n",
       "      <td>0.5160</td>\n",
       "      <td>0.2155</td>\n",
       "      <td>0.1140</td>\n",
       "      <td>0.155</td>\n",
       "      <td>10</td>\n",
       "    </tr>\n",
       "    <tr>\n",
       "      <th>4</th>\n",
       "      <td>1</td>\n",
       "      <td>0.330</td>\n",
       "      <td>0.255</td>\n",
       "      <td>0.080</td>\n",
       "      <td>0.2050</td>\n",
       "      <td>0.0895</td>\n",
       "      <td>0.0395</td>\n",
       "      <td>0.055</td>\n",
       "      <td>7</td>\n",
       "    </tr>\n",
       "  </tbody>\n",
       "</table>\n",
       "</div>"
      ],
      "text/plain": [
       "   sex  length  diameter  height  whole weight  shucked weight  \\\n",
       "0    2   0.455     0.365   0.095        0.5140          0.2245   \n",
       "1    2   0.350     0.265   0.090        0.2255          0.0995   \n",
       "2    0   0.530     0.420   0.135        0.6770          0.2565   \n",
       "3    2   0.440     0.365   0.125        0.5160          0.2155   \n",
       "4    1   0.330     0.255   0.080        0.2050          0.0895   \n",
       "\n",
       "   viscera weight  shell weight  rings  \n",
       "0          0.1010         0.150     15  \n",
       "1          0.0485         0.070      7  \n",
       "2          0.1415         0.210      9  \n",
       "3          0.1140         0.155     10  \n",
       "4          0.0395         0.055      7  "
      ]
     },
     "execution_count": 7,
     "metadata": {},
     "output_type": "execute_result"
    }
   ],
   "source": [
    "# Convert to Pandas DataFrame\n",
    "abalone_sdf.limit(5).toPandas()"
   ]
  },
  {
   "cell_type": "markdown",
   "metadata": {},
   "source": [
    "# Operations on DataFrames"
   ]
  },
  {
   "cell_type": "code",
   "execution_count": 8,
   "metadata": {
    "ExecuteTime": {
     "end_time": "2017-06-20T18:19:10.866795Z",
     "start_time": "2017-06-20T18:19:10.374140Z"
    }
   },
   "outputs": [
    {
     "data": {
      "text/html": [
       "<div>\n",
       "<style>\n",
       "    .dataframe thead tr:only-child th {\n",
       "        text-align: right;\n",
       "    }\n",
       "\n",
       "    .dataframe thead th {\n",
       "        text-align: left;\n",
       "    }\n",
       "\n",
       "    .dataframe tbody tr th {\n",
       "        vertical-align: top;\n",
       "    }\n",
       "</style>\n",
       "<table border=\"1\" class=\"dataframe\">\n",
       "  <thead>\n",
       "    <tr style=\"text-align: right;\">\n",
       "      <th></th>\n",
       "      <th>sex</th>\n",
       "      <th>length</th>\n",
       "      <th>diameter</th>\n",
       "      <th>height</th>\n",
       "      <th>whole weight</th>\n",
       "      <th>shucked weight</th>\n",
       "      <th>viscera weight</th>\n",
       "      <th>shell weight</th>\n",
       "      <th>rings</th>\n",
       "    </tr>\n",
       "  </thead>\n",
       "  <tbody>\n",
       "    <tr>\n",
       "      <th>0</th>\n",
       "      <td>2</td>\n",
       "      <td>0.455</td>\n",
       "      <td>0.365</td>\n",
       "      <td>0.095</td>\n",
       "      <td>0.5140</td>\n",
       "      <td>0.2245</td>\n",
       "      <td>0.1010</td>\n",
       "      <td>0.150</td>\n",
       "      <td>15</td>\n",
       "    </tr>\n",
       "    <tr>\n",
       "      <th>1</th>\n",
       "      <td>2</td>\n",
       "      <td>0.350</td>\n",
       "      <td>0.265</td>\n",
       "      <td>0.090</td>\n",
       "      <td>0.2255</td>\n",
       "      <td>0.0995</td>\n",
       "      <td>0.0485</td>\n",
       "      <td>0.070</td>\n",
       "      <td>7</td>\n",
       "    </tr>\n",
       "    <tr>\n",
       "      <th>2</th>\n",
       "      <td>0</td>\n",
       "      <td>0.530</td>\n",
       "      <td>0.420</td>\n",
       "      <td>0.135</td>\n",
       "      <td>0.6770</td>\n",
       "      <td>0.2565</td>\n",
       "      <td>0.1415</td>\n",
       "      <td>0.210</td>\n",
       "      <td>9</td>\n",
       "    </tr>\n",
       "    <tr>\n",
       "      <th>3</th>\n",
       "      <td>2</td>\n",
       "      <td>0.440</td>\n",
       "      <td>0.365</td>\n",
       "      <td>0.125</td>\n",
       "      <td>0.5160</td>\n",
       "      <td>0.2155</td>\n",
       "      <td>0.1140</td>\n",
       "      <td>0.155</td>\n",
       "      <td>10</td>\n",
       "    </tr>\n",
       "    <tr>\n",
       "      <th>4</th>\n",
       "      <td>1</td>\n",
       "      <td>0.330</td>\n",
       "      <td>0.255</td>\n",
       "      <td>0.080</td>\n",
       "      <td>0.2050</td>\n",
       "      <td>0.0895</td>\n",
       "      <td>0.0395</td>\n",
       "      <td>0.055</td>\n",
       "      <td>7</td>\n",
       "    </tr>\n",
       "  </tbody>\n",
       "</table>\n",
       "</div>"
      ],
      "text/plain": [
       "   sex  length  diameter  height  whole weight  shucked weight  \\\n",
       "0    2   0.455     0.365   0.095        0.5140          0.2245   \n",
       "1    2   0.350     0.265   0.090        0.2255          0.0995   \n",
       "2    0   0.530     0.420   0.135        0.6770          0.2565   \n",
       "3    2   0.440     0.365   0.125        0.5160          0.2155   \n",
       "4    1   0.330     0.255   0.080        0.2050          0.0895   \n",
       "\n",
       "   viscera weight  shell weight  rings  \n",
       "0          0.1010         0.150     15  \n",
       "1          0.0485         0.070      7  \n",
       "2          0.1415         0.210      9  \n",
       "3          0.1140         0.155     10  \n",
       "4          0.0395         0.055      7  "
      ]
     },
     "execution_count": 8,
     "metadata": {},
     "output_type": "execute_result"
    }
   ],
   "source": [
    "# Apply filters using SQL syntax. Cannot put a ';' at the end of the\n",
    "# query or it will throw an error.\n",
    "abalone_sdf.registerTempTable('abalone')\n",
    "sql = '''\n",
    "SELECT *\n",
    "  FROM abalone\n",
    " WHERE length > 0.3\n",
    "'''\n",
    "sqlContext.sql(sql)\\\n",
    "    .limit(5)\\\n",
    "    .toPandas()"
   ]
  },
  {
   "cell_type": "code",
   "execution_count": 9,
   "metadata": {
    "ExecuteTime": {
     "end_time": "2017-06-20T18:19:11.013196Z",
     "start_time": "2017-06-20T18:19:10.868084Z"
    }
   },
   "outputs": [
    {
     "data": {
      "text/html": [
       "<div>\n",
       "<style>\n",
       "    .dataframe thead tr:only-child th {\n",
       "        text-align: right;\n",
       "    }\n",
       "\n",
       "    .dataframe thead th {\n",
       "        text-align: left;\n",
       "    }\n",
       "\n",
       "    .dataframe tbody tr th {\n",
       "        vertical-align: top;\n",
       "    }\n",
       "</style>\n",
       "<table border=\"1\" class=\"dataframe\">\n",
       "  <thead>\n",
       "    <tr style=\"text-align: right;\">\n",
       "      <th></th>\n",
       "      <th>sex</th>\n",
       "      <th>length</th>\n",
       "      <th>diameter</th>\n",
       "      <th>height</th>\n",
       "      <th>whole weight</th>\n",
       "      <th>shucked weight</th>\n",
       "      <th>viscera weight</th>\n",
       "      <th>shell weight</th>\n",
       "      <th>rings</th>\n",
       "    </tr>\n",
       "  </thead>\n",
       "  <tbody>\n",
       "    <tr>\n",
       "      <th>0</th>\n",
       "      <td>2</td>\n",
       "      <td>0.455</td>\n",
       "      <td>0.365</td>\n",
       "      <td>0.095</td>\n",
       "      <td>0.5140</td>\n",
       "      <td>0.2245</td>\n",
       "      <td>0.1010</td>\n",
       "      <td>0.150</td>\n",
       "      <td>15</td>\n",
       "    </tr>\n",
       "    <tr>\n",
       "      <th>1</th>\n",
       "      <td>2</td>\n",
       "      <td>0.350</td>\n",
       "      <td>0.265</td>\n",
       "      <td>0.090</td>\n",
       "      <td>0.2255</td>\n",
       "      <td>0.0995</td>\n",
       "      <td>0.0485</td>\n",
       "      <td>0.070</td>\n",
       "      <td>7</td>\n",
       "    </tr>\n",
       "    <tr>\n",
       "      <th>2</th>\n",
       "      <td>0</td>\n",
       "      <td>0.530</td>\n",
       "      <td>0.420</td>\n",
       "      <td>0.135</td>\n",
       "      <td>0.6770</td>\n",
       "      <td>0.2565</td>\n",
       "      <td>0.1415</td>\n",
       "      <td>0.210</td>\n",
       "      <td>9</td>\n",
       "    </tr>\n",
       "    <tr>\n",
       "      <th>3</th>\n",
       "      <td>2</td>\n",
       "      <td>0.440</td>\n",
       "      <td>0.365</td>\n",
       "      <td>0.125</td>\n",
       "      <td>0.5160</td>\n",
       "      <td>0.2155</td>\n",
       "      <td>0.1140</td>\n",
       "      <td>0.155</td>\n",
       "      <td>10</td>\n",
       "    </tr>\n",
       "    <tr>\n",
       "      <th>4</th>\n",
       "      <td>1</td>\n",
       "      <td>0.330</td>\n",
       "      <td>0.255</td>\n",
       "      <td>0.080</td>\n",
       "      <td>0.2050</td>\n",
       "      <td>0.0895</td>\n",
       "      <td>0.0395</td>\n",
       "      <td>0.055</td>\n",
       "      <td>7</td>\n",
       "    </tr>\n",
       "  </tbody>\n",
       "</table>\n",
       "</div>"
      ],
      "text/plain": [
       "   sex  length  diameter  height  whole weight  shucked weight  \\\n",
       "0    2   0.455     0.365   0.095        0.5140          0.2245   \n",
       "1    2   0.350     0.265   0.090        0.2255          0.0995   \n",
       "2    0   0.530     0.420   0.135        0.6770          0.2565   \n",
       "3    2   0.440     0.365   0.125        0.5160          0.2155   \n",
       "4    1   0.330     0.255   0.080        0.2050          0.0895   \n",
       "\n",
       "   viscera weight  shell weight  rings  \n",
       "0          0.1010         0.150     15  \n",
       "1          0.0485         0.070      7  \n",
       "2          0.1415         0.210      9  \n",
       "3          0.1140         0.155     10  \n",
       "4          0.0395         0.055      7  "
      ]
     },
     "execution_count": 9,
     "metadata": {},
     "output_type": "execute_result"
    }
   ],
   "source": [
    "# We can do the same thing in pure Spark.\n",
    "abalone_sdf\\\n",
    "    .where(col('length') > 0.3)\\\n",
    "    .limit(5)\\\n",
    "    .toPandas()"
   ]
  },
  {
   "cell_type": "code",
   "execution_count": 10,
   "metadata": {
    "ExecuteTime": {
     "end_time": "2017-06-20T18:19:11.300731Z",
     "start_time": "2017-06-20T18:19:11.014471Z"
    }
   },
   "outputs": [
    {
     "data": {
      "text/html": [
       "<div>\n",
       "<style>\n",
       "    .dataframe thead tr:only-child th {\n",
       "        text-align: right;\n",
       "    }\n",
       "\n",
       "    .dataframe thead th {\n",
       "        text-align: left;\n",
       "    }\n",
       "\n",
       "    .dataframe tbody tr th {\n",
       "        vertical-align: top;\n",
       "    }\n",
       "</style>\n",
       "<table border=\"1\" class=\"dataframe\">\n",
       "  <thead>\n",
       "    <tr style=\"text-align: right;\">\n",
       "      <th></th>\n",
       "      <th>sex</th>\n",
       "      <th>length</th>\n",
       "    </tr>\n",
       "  </thead>\n",
       "  <tbody>\n",
       "    <tr>\n",
       "      <th>0</th>\n",
       "      <td>1</td>\n",
       "      <td>0.075</td>\n",
       "    </tr>\n",
       "    <tr>\n",
       "      <th>1</th>\n",
       "      <td>1</td>\n",
       "      <td>0.110</td>\n",
       "    </tr>\n",
       "    <tr>\n",
       "      <th>2</th>\n",
       "      <td>1</td>\n",
       "      <td>0.130</td>\n",
       "    </tr>\n",
       "    <tr>\n",
       "      <th>3</th>\n",
       "      <td>1</td>\n",
       "      <td>0.130</td>\n",
       "    </tr>\n",
       "    <tr>\n",
       "      <th>4</th>\n",
       "      <td>1</td>\n",
       "      <td>0.135</td>\n",
       "    </tr>\n",
       "  </tbody>\n",
       "</table>\n",
       "</div>"
      ],
      "text/plain": [
       "   sex  length\n",
       "0    1   0.075\n",
       "1    1   0.110\n",
       "2    1   0.130\n",
       "3    1   0.130\n",
       "4    1   0.135"
      ]
     },
     "execution_count": 10,
     "metadata": {},
     "output_type": "execute_result"
    }
   ],
   "source": [
    "abalone_sdf\\\n",
    "    .select('sex', 'length')\\\n",
    "    .orderBy('length')\\\n",
    "    .limit(5)\\\n",
    "    .toPandas()"
   ]
  },
  {
   "cell_type": "code",
   "execution_count": 11,
   "metadata": {
    "ExecuteTime": {
     "end_time": "2017-06-20T18:19:11.455383Z",
     "start_time": "2017-06-20T18:19:11.302050Z"
    }
   },
   "outputs": [
    {
     "data": {
      "text/html": [
       "<div>\n",
       "<style>\n",
       "    .dataframe thead tr:only-child th {\n",
       "        text-align: right;\n",
       "    }\n",
       "\n",
       "    .dataframe thead th {\n",
       "        text-align: left;\n",
       "    }\n",
       "\n",
       "    .dataframe tbody tr th {\n",
       "        vertical-align: top;\n",
       "    }\n",
       "</style>\n",
       "<table border=\"1\" class=\"dataframe\">\n",
       "  <thead>\n",
       "    <tr style=\"text-align: right;\">\n",
       "      <th></th>\n",
       "      <th>sex</th>\n",
       "      <th>length</th>\n",
       "    </tr>\n",
       "  </thead>\n",
       "  <tbody>\n",
       "    <tr>\n",
       "      <th>0</th>\n",
       "      <td>1</td>\n",
       "      <td>0.075</td>\n",
       "    </tr>\n",
       "    <tr>\n",
       "      <th>1</th>\n",
       "      <td>1</td>\n",
       "      <td>0.110</td>\n",
       "    </tr>\n",
       "    <tr>\n",
       "      <th>2</th>\n",
       "      <td>1</td>\n",
       "      <td>0.130</td>\n",
       "    </tr>\n",
       "    <tr>\n",
       "      <th>3</th>\n",
       "      <td>1</td>\n",
       "      <td>0.130</td>\n",
       "    </tr>\n",
       "    <tr>\n",
       "      <th>4</th>\n",
       "      <td>1</td>\n",
       "      <td>0.135</td>\n",
       "    </tr>\n",
       "  </tbody>\n",
       "</table>\n",
       "</div>"
      ],
      "text/plain": [
       "   sex  length\n",
       "0    1   0.075\n",
       "1    1   0.110\n",
       "2    1   0.130\n",
       "3    1   0.130\n",
       "4    1   0.135"
      ]
     },
     "execution_count": 11,
     "metadata": {},
     "output_type": "execute_result"
    }
   ],
   "source": [
    "abalone_sdf\\\n",
    "    .select(['sex', 'length'])\\\n",
    "    .orderBy('length')\\\n",
    "    .limit(5)\\\n",
    "    .toPandas()"
   ]
  },
  {
   "cell_type": "code",
   "execution_count": 12,
   "metadata": {
    "ExecuteTime": {
     "end_time": "2017-06-20T18:19:11.697765Z",
     "start_time": "2017-06-20T18:19:11.456633Z"
    }
   },
   "outputs": [
    {
     "data": {
      "text/html": [
       "<div>\n",
       "<style>\n",
       "    .dataframe thead tr:only-child th {\n",
       "        text-align: right;\n",
       "    }\n",
       "\n",
       "    .dataframe thead th {\n",
       "        text-align: left;\n",
       "    }\n",
       "\n",
       "    .dataframe tbody tr th {\n",
       "        vertical-align: top;\n",
       "    }\n",
       "</style>\n",
       "<table border=\"1\" class=\"dataframe\">\n",
       "  <thead>\n",
       "    <tr style=\"text-align: right;\">\n",
       "      <th></th>\n",
       "      <th>sex</th>\n",
       "      <th>length</th>\n",
       "      <th>diameter</th>\n",
       "      <th>height</th>\n",
       "      <th>whole weight</th>\n",
       "      <th>shucked weight</th>\n",
       "      <th>viscera weight</th>\n",
       "      <th>shell weight</th>\n",
       "      <th>rings</th>\n",
       "    </tr>\n",
       "  </thead>\n",
       "  <tbody>\n",
       "    <tr>\n",
       "      <th>0</th>\n",
       "      <td>0</td>\n",
       "      <td>0.325</td>\n",
       "      <td>0.260</td>\n",
       "      <td>0.09</td>\n",
       "      <td>0.1915</td>\n",
       "      <td>0.0850</td>\n",
       "      <td>0.0360</td>\n",
       "      <td>0.062</td>\n",
       "      <td>7</td>\n",
       "    </tr>\n",
       "    <tr>\n",
       "      <th>1</th>\n",
       "      <td>0</td>\n",
       "      <td>0.345</td>\n",
       "      <td>0.250</td>\n",
       "      <td>0.09</td>\n",
       "      <td>0.2030</td>\n",
       "      <td>0.0780</td>\n",
       "      <td>0.0590</td>\n",
       "      <td>0.055</td>\n",
       "      <td>6</td>\n",
       "    </tr>\n",
       "    <tr>\n",
       "      <th>2</th>\n",
       "      <td>0</td>\n",
       "      <td>0.360</td>\n",
       "      <td>0.265</td>\n",
       "      <td>0.09</td>\n",
       "      <td>0.2065</td>\n",
       "      <td>0.0780</td>\n",
       "      <td>0.0570</td>\n",
       "      <td>0.060</td>\n",
       "      <td>8</td>\n",
       "    </tr>\n",
       "    <tr>\n",
       "      <th>3</th>\n",
       "      <td>0</td>\n",
       "      <td>0.370</td>\n",
       "      <td>0.275</td>\n",
       "      <td>0.10</td>\n",
       "      <td>0.2225</td>\n",
       "      <td>0.0930</td>\n",
       "      <td>0.0260</td>\n",
       "      <td>0.080</td>\n",
       "      <td>8</td>\n",
       "    </tr>\n",
       "    <tr>\n",
       "      <th>4</th>\n",
       "      <td>0</td>\n",
       "      <td>0.370</td>\n",
       "      <td>0.280</td>\n",
       "      <td>0.11</td>\n",
       "      <td>0.2305</td>\n",
       "      <td>0.0945</td>\n",
       "      <td>0.0465</td>\n",
       "      <td>0.075</td>\n",
       "      <td>10</td>\n",
       "    </tr>\n",
       "  </tbody>\n",
       "</table>\n",
       "</div>"
      ],
      "text/plain": [
       "   sex  length  diameter  height  whole weight  shucked weight  \\\n",
       "0    0   0.325     0.260    0.09        0.1915          0.0850   \n",
       "1    0   0.345     0.250    0.09        0.2030          0.0780   \n",
       "2    0   0.360     0.265    0.09        0.2065          0.0780   \n",
       "3    0   0.370     0.275    0.10        0.2225          0.0930   \n",
       "4    0   0.370     0.280    0.11        0.2305          0.0945   \n",
       "\n",
       "   viscera weight  shell weight  rings  \n",
       "0          0.0360         0.062      7  \n",
       "1          0.0590         0.055      6  \n",
       "2          0.0570         0.060      8  \n",
       "3          0.0260         0.080      8  \n",
       "4          0.0465         0.075     10  "
      ]
     },
     "execution_count": 12,
     "metadata": {},
     "output_type": "execute_result"
    }
   ],
   "source": [
    "train_sdf, test_sdf = abalone_sdf.randomSplit([0.8, 0.2])\n",
    "test_sdf\\\n",
    "    .limit(5)\\\n",
    "    .toPandas()"
   ]
  },
  {
   "cell_type": "markdown",
   "metadata": {},
   "source": [
    "# Modelling\n",
    "\n",
    "Modelling requires input columns label and features. We will need to take all of our feature information and group them together into a Vector. We use the `VectorAssembler` function to achieve this."
   ]
  },
  {
   "cell_type": "code",
   "execution_count": 13,
   "metadata": {
    "ExecuteTime": {
     "end_time": "2017-06-20T18:19:12.372948Z",
     "start_time": "2017-06-20T18:19:11.699008Z"
    }
   },
   "outputs": [
    {
     "data": {
      "text/html": [
       "<div>\n",
       "<style>\n",
       "    .dataframe thead tr:only-child th {\n",
       "        text-align: right;\n",
       "    }\n",
       "\n",
       "    .dataframe thead th {\n",
       "        text-align: left;\n",
       "    }\n",
       "\n",
       "    .dataframe tbody tr th {\n",
       "        vertical-align: top;\n",
       "    }\n",
       "</style>\n",
       "<table border=\"1\" class=\"dataframe\">\n",
       "  <thead>\n",
       "    <tr style=\"text-align: right;\">\n",
       "      <th></th>\n",
       "      <th>sex</th>\n",
       "      <th>length</th>\n",
       "      <th>diameter</th>\n",
       "      <th>height</th>\n",
       "      <th>whole weight</th>\n",
       "      <th>shucked weight</th>\n",
       "      <th>viscera weight</th>\n",
       "      <th>shell weight</th>\n",
       "      <th>rings</th>\n",
       "      <th>features</th>\n",
       "    </tr>\n",
       "  </thead>\n",
       "  <tbody>\n",
       "    <tr>\n",
       "      <th>0</th>\n",
       "      <td>0</td>\n",
       "      <td>0.275</td>\n",
       "      <td>0.195</td>\n",
       "      <td>0.070</td>\n",
       "      <td>0.0800</td>\n",
       "      <td>0.0310</td>\n",
       "      <td>0.0215</td>\n",
       "      <td>0.0250</td>\n",
       "      <td>5</td>\n",
       "      <td>[0.275, 0.195, 0.07, 0.08, 0.031, 0.0215, 0.02...</td>\n",
       "    </tr>\n",
       "    <tr>\n",
       "      <th>1</th>\n",
       "      <td>0</td>\n",
       "      <td>0.305</td>\n",
       "      <td>0.230</td>\n",
       "      <td>0.080</td>\n",
       "      <td>0.1560</td>\n",
       "      <td>0.0675</td>\n",
       "      <td>0.0345</td>\n",
       "      <td>0.0480</td>\n",
       "      <td>7</td>\n",
       "      <td>[0.305, 0.23, 0.08, 0.156, 0.0675, 0.0345, 0.0...</td>\n",
       "    </tr>\n",
       "    <tr>\n",
       "      <th>2</th>\n",
       "      <td>0</td>\n",
       "      <td>0.345</td>\n",
       "      <td>0.260</td>\n",
       "      <td>0.090</td>\n",
       "      <td>0.2070</td>\n",
       "      <td>0.0775</td>\n",
       "      <td>0.0435</td>\n",
       "      <td>0.0765</td>\n",
       "      <td>10</td>\n",
       "      <td>[0.345, 0.26, 0.09, 0.207, 0.0775, 0.0435, 0.0...</td>\n",
       "    </tr>\n",
       "    <tr>\n",
       "      <th>3</th>\n",
       "      <td>0</td>\n",
       "      <td>0.360</td>\n",
       "      <td>0.270</td>\n",
       "      <td>0.090</td>\n",
       "      <td>0.1885</td>\n",
       "      <td>0.0845</td>\n",
       "      <td>0.0385</td>\n",
       "      <td>0.0550</td>\n",
       "      <td>5</td>\n",
       "      <td>[0.36, 0.27, 0.09, 0.1885, 0.0845, 0.0385, 0.0...</td>\n",
       "    </tr>\n",
       "    <tr>\n",
       "      <th>4</th>\n",
       "      <td>0</td>\n",
       "      <td>0.370</td>\n",
       "      <td>0.290</td>\n",
       "      <td>0.115</td>\n",
       "      <td>0.2500</td>\n",
       "      <td>0.1110</td>\n",
       "      <td>0.0570</td>\n",
       "      <td>0.0750</td>\n",
       "      <td>9</td>\n",
       "      <td>[0.37, 0.29, 0.115, 0.25, 0.111, 0.057, 0.075,...</td>\n",
       "    </tr>\n",
       "  </tbody>\n",
       "</table>\n",
       "</div>"
      ],
      "text/plain": [
       "   sex  length  diameter  height  whole weight  shucked weight  \\\n",
       "0    0   0.275     0.195   0.070        0.0800          0.0310   \n",
       "1    0   0.305     0.230   0.080        0.1560          0.0675   \n",
       "2    0   0.345     0.260   0.090        0.2070          0.0775   \n",
       "3    0   0.360     0.270   0.090        0.1885          0.0845   \n",
       "4    0   0.370     0.290   0.115        0.2500          0.1110   \n",
       "\n",
       "   viscera weight  shell weight  rings  \\\n",
       "0          0.0215        0.0250      5   \n",
       "1          0.0345        0.0480      7   \n",
       "2          0.0435        0.0765     10   \n",
       "3          0.0385        0.0550      5   \n",
       "4          0.0570        0.0750      9   \n",
       "\n",
       "                                            features  \n",
       "0  [0.275, 0.195, 0.07, 0.08, 0.031, 0.0215, 0.02...  \n",
       "1  [0.305, 0.23, 0.08, 0.156, 0.0675, 0.0345, 0.0...  \n",
       "2  [0.345, 0.26, 0.09, 0.207, 0.0775, 0.0435, 0.0...  \n",
       "3  [0.36, 0.27, 0.09, 0.1885, 0.0845, 0.0385, 0.0...  \n",
       "4  [0.37, 0.29, 0.115, 0.25, 0.111, 0.057, 0.075,...  "
      ]
     },
     "execution_count": 13,
     "metadata": {},
     "output_type": "execute_result"
    }
   ],
   "source": [
    "assembler = VectorAssembler(inputCols=train_sdf.columns[1:],\n",
    "                            outputCol='features'\n",
    "                           )\n",
    "\n",
    "train_assemble_sdf = assembler.transform(train_sdf)\n",
    "test_assemble_sdf = assembler.transform(test_sdf)\n",
    "\n",
    "train_assemble_sdf\\\n",
    "    .limit(5)\\\n",
    "    .toPandas()"
   ]
  },
  {
   "cell_type": "markdown",
   "metadata": {},
   "source": [
    "Next, we need to change our label using StringIndexer which converts our categorical values into indices. They are ordered by frequency."
   ]
  },
  {
   "cell_type": "code",
   "execution_count": 14,
   "metadata": {
    "ExecuteTime": {
     "end_time": "2017-06-20T18:19:12.970649Z",
     "start_time": "2017-06-20T18:19:12.374341Z"
    }
   },
   "outputs": [
    {
     "data": {
      "text/html": [
       "<div>\n",
       "<style>\n",
       "    .dataframe thead tr:only-child th {\n",
       "        text-align: right;\n",
       "    }\n",
       "\n",
       "    .dataframe thead th {\n",
       "        text-align: left;\n",
       "    }\n",
       "\n",
       "    .dataframe tbody tr th {\n",
       "        vertical-align: top;\n",
       "    }\n",
       "</style>\n",
       "<table border=\"1\" class=\"dataframe\">\n",
       "  <thead>\n",
       "    <tr style=\"text-align: right;\">\n",
       "      <th></th>\n",
       "      <th>sex</th>\n",
       "      <th>length</th>\n",
       "      <th>diameter</th>\n",
       "      <th>height</th>\n",
       "      <th>whole weight</th>\n",
       "      <th>shucked weight</th>\n",
       "      <th>viscera weight</th>\n",
       "      <th>shell weight</th>\n",
       "      <th>rings</th>\n",
       "      <th>features</th>\n",
       "      <th>sex_label</th>\n",
       "    </tr>\n",
       "  </thead>\n",
       "  <tbody>\n",
       "    <tr>\n",
       "      <th>0</th>\n",
       "      <td>0</td>\n",
       "      <td>0.275</td>\n",
       "      <td>0.195</td>\n",
       "      <td>0.070</td>\n",
       "      <td>0.0800</td>\n",
       "      <td>0.0310</td>\n",
       "      <td>0.0215</td>\n",
       "      <td>0.0250</td>\n",
       "      <td>5</td>\n",
       "      <td>[0.275, 0.195, 0.07, 0.08, 0.031, 0.0215, 0.02...</td>\n",
       "      <td>2.0</td>\n",
       "    </tr>\n",
       "    <tr>\n",
       "      <th>1</th>\n",
       "      <td>0</td>\n",
       "      <td>0.305</td>\n",
       "      <td>0.230</td>\n",
       "      <td>0.080</td>\n",
       "      <td>0.1560</td>\n",
       "      <td>0.0675</td>\n",
       "      <td>0.0345</td>\n",
       "      <td>0.0480</td>\n",
       "      <td>7</td>\n",
       "      <td>[0.305, 0.23, 0.08, 0.156, 0.0675, 0.0345, 0.0...</td>\n",
       "      <td>2.0</td>\n",
       "    </tr>\n",
       "    <tr>\n",
       "      <th>2</th>\n",
       "      <td>0</td>\n",
       "      <td>0.345</td>\n",
       "      <td>0.260</td>\n",
       "      <td>0.090</td>\n",
       "      <td>0.2070</td>\n",
       "      <td>0.0775</td>\n",
       "      <td>0.0435</td>\n",
       "      <td>0.0765</td>\n",
       "      <td>10</td>\n",
       "      <td>[0.345, 0.26, 0.09, 0.207, 0.0775, 0.0435, 0.0...</td>\n",
       "      <td>2.0</td>\n",
       "    </tr>\n",
       "    <tr>\n",
       "      <th>3</th>\n",
       "      <td>0</td>\n",
       "      <td>0.360</td>\n",
       "      <td>0.270</td>\n",
       "      <td>0.090</td>\n",
       "      <td>0.1885</td>\n",
       "      <td>0.0845</td>\n",
       "      <td>0.0385</td>\n",
       "      <td>0.0550</td>\n",
       "      <td>5</td>\n",
       "      <td>[0.36, 0.27, 0.09, 0.1885, 0.0845, 0.0385, 0.0...</td>\n",
       "      <td>2.0</td>\n",
       "    </tr>\n",
       "    <tr>\n",
       "      <th>4</th>\n",
       "      <td>0</td>\n",
       "      <td>0.370</td>\n",
       "      <td>0.290</td>\n",
       "      <td>0.115</td>\n",
       "      <td>0.2500</td>\n",
       "      <td>0.1110</td>\n",
       "      <td>0.0570</td>\n",
       "      <td>0.0750</td>\n",
       "      <td>9</td>\n",
       "      <td>[0.37, 0.29, 0.115, 0.25, 0.111, 0.057, 0.075,...</td>\n",
       "      <td>2.0</td>\n",
       "    </tr>\n",
       "  </tbody>\n",
       "</table>\n",
       "</div>"
      ],
      "text/plain": [
       "   sex  length  diameter  height  whole weight  shucked weight  \\\n",
       "0    0   0.275     0.195   0.070        0.0800          0.0310   \n",
       "1    0   0.305     0.230   0.080        0.1560          0.0675   \n",
       "2    0   0.345     0.260   0.090        0.2070          0.0775   \n",
       "3    0   0.360     0.270   0.090        0.1885          0.0845   \n",
       "4    0   0.370     0.290   0.115        0.2500          0.1110   \n",
       "\n",
       "   viscera weight  shell weight  rings  \\\n",
       "0          0.0215        0.0250      5   \n",
       "1          0.0345        0.0480      7   \n",
       "2          0.0435        0.0765     10   \n",
       "3          0.0385        0.0550      5   \n",
       "4          0.0570        0.0750      9   \n",
       "\n",
       "                                            features  sex_label  \n",
       "0  [0.275, 0.195, 0.07, 0.08, 0.031, 0.0215, 0.02...        2.0  \n",
       "1  [0.305, 0.23, 0.08, 0.156, 0.0675, 0.0345, 0.0...        2.0  \n",
       "2  [0.345, 0.26, 0.09, 0.207, 0.0775, 0.0435, 0.0...        2.0  \n",
       "3  [0.36, 0.27, 0.09, 0.1885, 0.0845, 0.0385, 0.0...        2.0  \n",
       "4  [0.37, 0.29, 0.115, 0.25, 0.111, 0.057, 0.075,...        2.0  "
      ]
     },
     "execution_count": 14,
     "metadata": {},
     "output_type": "execute_result"
    }
   ],
   "source": [
    "string_indexer = StringIndexer(inputCol='sex', outputCol='sex_label')\n",
    "si_model = string_indexer.fit(train_assemble_sdf)\n",
    "train_index_sdf = si_model.transform(train_assemble_sdf)\n",
    "test_index_sdf = si_model.transform(test_assemble_sdf)\n",
    "\n",
    "train_index_sdf\\\n",
    "    .limit(5)\\\n",
    "    .toPandas()"
   ]
  },
  {
   "cell_type": "markdown",
   "metadata": {},
   "source": [
    "Finally, we can set up and run our model."
   ]
  },
  {
   "cell_type": "code",
   "execution_count": 15,
   "metadata": {
    "ExecuteTime": {
     "end_time": "2017-06-20T18:19:14.624718Z",
     "start_time": "2017-06-20T18:19:12.972776Z"
    },
    "scrolled": false
   },
   "outputs": [
    {
     "data": {
      "text/plain": [
       "RandomForestClassificationModel (uid=rfc_8399174cde78) with 3 trees"
      ]
     },
     "execution_count": 15,
     "metadata": {},
     "output_type": "execute_result"
    }
   ],
   "source": [
    "# Set up model\n",
    "rf_model = RandomForestClassifier(numTrees=3, maxDepth=2, labelCol='sex_label')\n",
    "# Train the model\n",
    "rf_clf = rf_model.fit(train_index_sdf)\n",
    "rf_clf"
   ]
  },
  {
   "cell_type": "markdown",
   "metadata": {},
   "source": [
    "Now, we apply the model to the test set."
   ]
  },
  {
   "cell_type": "code",
   "execution_count": 16,
   "metadata": {
    "ExecuteTime": {
     "end_time": "2017-06-20T18:19:14.960758Z",
     "start_time": "2017-06-20T18:19:14.625987Z"
    }
   },
   "outputs": [
    {
     "data": {
      "text/html": [
       "<div>\n",
       "<style>\n",
       "    .dataframe thead tr:only-child th {\n",
       "        text-align: right;\n",
       "    }\n",
       "\n",
       "    .dataframe thead th {\n",
       "        text-align: left;\n",
       "    }\n",
       "\n",
       "    .dataframe tbody tr th {\n",
       "        vertical-align: top;\n",
       "    }\n",
       "</style>\n",
       "<table border=\"1\" class=\"dataframe\">\n",
       "  <thead>\n",
       "    <tr style=\"text-align: right;\">\n",
       "      <th></th>\n",
       "      <th>sex</th>\n",
       "      <th>length</th>\n",
       "      <th>diameter</th>\n",
       "      <th>height</th>\n",
       "      <th>whole weight</th>\n",
       "      <th>shucked weight</th>\n",
       "      <th>viscera weight</th>\n",
       "      <th>shell weight</th>\n",
       "      <th>rings</th>\n",
       "      <th>features</th>\n",
       "      <th>sex_label</th>\n",
       "      <th>rawPrediction</th>\n",
       "      <th>probability</th>\n",
       "      <th>prediction</th>\n",
       "    </tr>\n",
       "  </thead>\n",
       "  <tbody>\n",
       "    <tr>\n",
       "      <th>0</th>\n",
       "      <td>0</td>\n",
       "      <td>0.325</td>\n",
       "      <td>0.260</td>\n",
       "      <td>0.09</td>\n",
       "      <td>0.1915</td>\n",
       "      <td>0.0850</td>\n",
       "      <td>0.0360</td>\n",
       "      <td>0.062</td>\n",
       "      <td>7</td>\n",
       "      <td>[0.325, 0.26, 0.09, 0.1915, 0.085, 0.036, 0.06...</td>\n",
       "      <td>2.0</td>\n",
       "      <td>[0.450149354117, 2.38000046113, 0.169850184758]</td>\n",
       "      <td>[0.150049784706, 0.793333487042, 0.0566167282528]</td>\n",
       "      <td>1.0</td>\n",
       "    </tr>\n",
       "    <tr>\n",
       "      <th>1</th>\n",
       "      <td>0</td>\n",
       "      <td>0.345</td>\n",
       "      <td>0.250</td>\n",
       "      <td>0.09</td>\n",
       "      <td>0.2030</td>\n",
       "      <td>0.0780</td>\n",
       "      <td>0.0590</td>\n",
       "      <td>0.055</td>\n",
       "      <td>6</td>\n",
       "      <td>[0.345, 0.25, 0.09, 0.203, 0.078, 0.059, 0.055...</td>\n",
       "      <td>2.0</td>\n",
       "      <td>[0.450149354117, 2.38000046113, 0.169850184758]</td>\n",
       "      <td>[0.150049784706, 0.793333487042, 0.0566167282528]</td>\n",
       "      <td>1.0</td>\n",
       "    </tr>\n",
       "    <tr>\n",
       "      <th>2</th>\n",
       "      <td>0</td>\n",
       "      <td>0.360</td>\n",
       "      <td>0.265</td>\n",
       "      <td>0.09</td>\n",
       "      <td>0.2065</td>\n",
       "      <td>0.0780</td>\n",
       "      <td>0.0570</td>\n",
       "      <td>0.060</td>\n",
       "      <td>8</td>\n",
       "      <td>[0.36, 0.265, 0.09, 0.2065, 0.078, 0.057, 0.06...</td>\n",
       "      <td>2.0</td>\n",
       "      <td>[0.450149354117, 2.38000046113, 0.169850184758]</td>\n",
       "      <td>[0.150049784706, 0.793333487042, 0.0566167282528]</td>\n",
       "      <td>1.0</td>\n",
       "    </tr>\n",
       "    <tr>\n",
       "      <th>3</th>\n",
       "      <td>0</td>\n",
       "      <td>0.370</td>\n",
       "      <td>0.275</td>\n",
       "      <td>0.10</td>\n",
       "      <td>0.2225</td>\n",
       "      <td>0.0930</td>\n",
       "      <td>0.0260</td>\n",
       "      <td>0.080</td>\n",
       "      <td>8</td>\n",
       "      <td>[0.37, 0.275, 0.1, 0.2225, 0.093, 0.026, 0.08,...</td>\n",
       "      <td>2.0</td>\n",
       "      <td>[0.450149354117, 2.38000046113, 0.169850184758]</td>\n",
       "      <td>[0.150049784706, 0.793333487042, 0.0566167282528]</td>\n",
       "      <td>1.0</td>\n",
       "    </tr>\n",
       "    <tr>\n",
       "      <th>4</th>\n",
       "      <td>0</td>\n",
       "      <td>0.370</td>\n",
       "      <td>0.280</td>\n",
       "      <td>0.11</td>\n",
       "      <td>0.2305</td>\n",
       "      <td>0.0945</td>\n",
       "      <td>0.0465</td>\n",
       "      <td>0.075</td>\n",
       "      <td>10</td>\n",
       "      <td>[0.37, 0.28, 0.11, 0.2305, 0.0945, 0.0465, 0.0...</td>\n",
       "      <td>2.0</td>\n",
       "      <td>[0.605302779606, 1.93192397624, 0.462773244154]</td>\n",
       "      <td>[0.201767593202, 0.643974658747, 0.154257748051]</td>\n",
       "      <td>1.0</td>\n",
       "    </tr>\n",
       "  </tbody>\n",
       "</table>\n",
       "</div>"
      ],
      "text/plain": [
       "   sex  length  diameter  height  whole weight  shucked weight  \\\n",
       "0    0   0.325     0.260    0.09        0.1915          0.0850   \n",
       "1    0   0.345     0.250    0.09        0.2030          0.0780   \n",
       "2    0   0.360     0.265    0.09        0.2065          0.0780   \n",
       "3    0   0.370     0.275    0.10        0.2225          0.0930   \n",
       "4    0   0.370     0.280    0.11        0.2305          0.0945   \n",
       "\n",
       "   viscera weight  shell weight  rings  \\\n",
       "0          0.0360         0.062      7   \n",
       "1          0.0590         0.055      6   \n",
       "2          0.0570         0.060      8   \n",
       "3          0.0260         0.080      8   \n",
       "4          0.0465         0.075     10   \n",
       "\n",
       "                                            features  sex_label  \\\n",
       "0  [0.325, 0.26, 0.09, 0.1915, 0.085, 0.036, 0.06...        2.0   \n",
       "1  [0.345, 0.25, 0.09, 0.203, 0.078, 0.059, 0.055...        2.0   \n",
       "2  [0.36, 0.265, 0.09, 0.2065, 0.078, 0.057, 0.06...        2.0   \n",
       "3  [0.37, 0.275, 0.1, 0.2225, 0.093, 0.026, 0.08,...        2.0   \n",
       "4  [0.37, 0.28, 0.11, 0.2305, 0.0945, 0.0465, 0.0...        2.0   \n",
       "\n",
       "                                     rawPrediction  \\\n",
       "0  [0.450149354117, 2.38000046113, 0.169850184758]   \n",
       "1  [0.450149354117, 2.38000046113, 0.169850184758]   \n",
       "2  [0.450149354117, 2.38000046113, 0.169850184758]   \n",
       "3  [0.450149354117, 2.38000046113, 0.169850184758]   \n",
       "4  [0.605302779606, 1.93192397624, 0.462773244154]   \n",
       "\n",
       "                                         probability  prediction  \n",
       "0  [0.150049784706, 0.793333487042, 0.0566167282528]         1.0  \n",
       "1  [0.150049784706, 0.793333487042, 0.0566167282528]         1.0  \n",
       "2  [0.150049784706, 0.793333487042, 0.0566167282528]         1.0  \n",
       "3  [0.150049784706, 0.793333487042, 0.0566167282528]         1.0  \n",
       "4   [0.201767593202, 0.643974658747, 0.154257748051]         1.0  "
      ]
     },
     "execution_count": 16,
     "metadata": {},
     "output_type": "execute_result"
    }
   ],
   "source": [
    "rf_results = rf_clf.transform(test_index_sdf)\n",
    "rf_results\\\n",
    "    .limit(5)\\\n",
    "    .toPandas()"
   ]
  },
  {
   "cell_type": "markdown",
   "metadata": {},
   "source": [
    "# Pipeline\n",
    "In each of these above steps (Assembling, Indexing, and Modelling), we had to save a different object for each step, then fit and/or transform. We can circumvent this by using the `Pipeline` class, which allows us to specify these a set of these objects in a series, then fit the pipeline. Here, we will create a pipeline for assembling and indexing. We can also put the model into this pipeline, but if we did, we would lose the object that would give us other properties such as feature importance or regression coefficients."
   ]
  },
  {
   "cell_type": "code",
   "execution_count": 17,
   "metadata": {
    "ExecuteTime": {
     "end_time": "2017-06-20T18:19:15.001737Z",
     "start_time": "2017-06-20T18:19:14.962109Z"
    },
    "collapsed": true
   },
   "outputs": [],
   "source": [
    "assembler = VectorAssembler(inputCols=train_sdf.columns[1:],\n",
    "                            outputCol='features'\n",
    "                           )\n",
    "string_indexer = StringIndexer(inputCol='sex', outputCol='label')\n",
    "rf_model = RandomForestClassifier(numTrees=3, maxDepth=2, labelCol='sex_label')\n",
    "\n",
    "pre_process_pipeline = Pipeline(stages=[assembler, string_indexer])"
   ]
  },
  {
   "cell_type": "markdown",
   "metadata": {},
   "source": [
    "We can apply the pipeline to the original training set, that is, the one without the features assembled or label indexed."
   ]
  },
  {
   "cell_type": "code",
   "execution_count": 18,
   "metadata": {
    "ExecuteTime": {
     "end_time": "2017-06-20T18:19:15.205258Z",
     "start_time": "2017-06-20T18:19:15.003503Z"
    },
    "collapsed": true
   },
   "outputs": [],
   "source": [
    "pre_process_model = pre_process_pipeline.fit(train_sdf)\n",
    "pre_process_train_sdf = pre_process_model.transform(train_sdf)\n",
    "pre_process_test_sdf = pre_process_model.transform(test_sdf)"
   ]
  },
  {
   "cell_type": "code",
   "execution_count": 19,
   "metadata": {
    "ExecuteTime": {
     "end_time": "2017-06-20T18:19:15.297799Z",
     "start_time": "2017-06-20T18:19:15.206804Z"
    }
   },
   "outputs": [
    {
     "data": {
      "text/html": [
       "<div>\n",
       "<style>\n",
       "    .dataframe thead tr:only-child th {\n",
       "        text-align: right;\n",
       "    }\n",
       "\n",
       "    .dataframe thead th {\n",
       "        text-align: left;\n",
       "    }\n",
       "\n",
       "    .dataframe tbody tr th {\n",
       "        vertical-align: top;\n",
       "    }\n",
       "</style>\n",
       "<table border=\"1\" class=\"dataframe\">\n",
       "  <thead>\n",
       "    <tr style=\"text-align: right;\">\n",
       "      <th></th>\n",
       "      <th>sex</th>\n",
       "      <th>length</th>\n",
       "      <th>diameter</th>\n",
       "      <th>height</th>\n",
       "      <th>whole weight</th>\n",
       "      <th>shucked weight</th>\n",
       "      <th>viscera weight</th>\n",
       "      <th>shell weight</th>\n",
       "      <th>rings</th>\n",
       "    </tr>\n",
       "  </thead>\n",
       "  <tbody>\n",
       "    <tr>\n",
       "      <th>0</th>\n",
       "      <td>0</td>\n",
       "      <td>0.275</td>\n",
       "      <td>0.195</td>\n",
       "      <td>0.070</td>\n",
       "      <td>0.0800</td>\n",
       "      <td>0.0310</td>\n",
       "      <td>0.0215</td>\n",
       "      <td>0.0250</td>\n",
       "      <td>5</td>\n",
       "    </tr>\n",
       "    <tr>\n",
       "      <th>1</th>\n",
       "      <td>0</td>\n",
       "      <td>0.305</td>\n",
       "      <td>0.230</td>\n",
       "      <td>0.080</td>\n",
       "      <td>0.1560</td>\n",
       "      <td>0.0675</td>\n",
       "      <td>0.0345</td>\n",
       "      <td>0.0480</td>\n",
       "      <td>7</td>\n",
       "    </tr>\n",
       "    <tr>\n",
       "      <th>2</th>\n",
       "      <td>0</td>\n",
       "      <td>0.345</td>\n",
       "      <td>0.260</td>\n",
       "      <td>0.090</td>\n",
       "      <td>0.2070</td>\n",
       "      <td>0.0775</td>\n",
       "      <td>0.0435</td>\n",
       "      <td>0.0765</td>\n",
       "      <td>10</td>\n",
       "    </tr>\n",
       "    <tr>\n",
       "      <th>3</th>\n",
       "      <td>0</td>\n",
       "      <td>0.360</td>\n",
       "      <td>0.270</td>\n",
       "      <td>0.090</td>\n",
       "      <td>0.1885</td>\n",
       "      <td>0.0845</td>\n",
       "      <td>0.0385</td>\n",
       "      <td>0.0550</td>\n",
       "      <td>5</td>\n",
       "    </tr>\n",
       "    <tr>\n",
       "      <th>4</th>\n",
       "      <td>0</td>\n",
       "      <td>0.370</td>\n",
       "      <td>0.290</td>\n",
       "      <td>0.115</td>\n",
       "      <td>0.2500</td>\n",
       "      <td>0.1110</td>\n",
       "      <td>0.0570</td>\n",
       "      <td>0.0750</td>\n",
       "      <td>9</td>\n",
       "    </tr>\n",
       "  </tbody>\n",
       "</table>\n",
       "</div>"
      ],
      "text/plain": [
       "   sex  length  diameter  height  whole weight  shucked weight  \\\n",
       "0    0   0.275     0.195   0.070        0.0800          0.0310   \n",
       "1    0   0.305     0.230   0.080        0.1560          0.0675   \n",
       "2    0   0.345     0.260   0.090        0.2070          0.0775   \n",
       "3    0   0.360     0.270   0.090        0.1885          0.0845   \n",
       "4    0   0.370     0.290   0.115        0.2500          0.1110   \n",
       "\n",
       "   viscera weight  shell weight  rings  \n",
       "0          0.0215        0.0250      5  \n",
       "1          0.0345        0.0480      7  \n",
       "2          0.0435        0.0765     10  \n",
       "3          0.0385        0.0550      5  \n",
       "4          0.0570        0.0750      9  "
      ]
     },
     "execution_count": 19,
     "metadata": {},
     "output_type": "execute_result"
    }
   ],
   "source": [
    "train_sdf\\\n",
    "    .limit(5)\\\n",
    "    .toPandas()"
   ]
  },
  {
   "cell_type": "code",
   "execution_count": 20,
   "metadata": {
    "ExecuteTime": {
     "end_time": "2017-06-20T18:19:15.389605Z",
     "start_time": "2017-06-20T18:19:15.299020Z"
    }
   },
   "outputs": [
    {
     "data": {
      "text/html": [
       "<div>\n",
       "<style>\n",
       "    .dataframe thead tr:only-child th {\n",
       "        text-align: right;\n",
       "    }\n",
       "\n",
       "    .dataframe thead th {\n",
       "        text-align: left;\n",
       "    }\n",
       "\n",
       "    .dataframe tbody tr th {\n",
       "        vertical-align: top;\n",
       "    }\n",
       "</style>\n",
       "<table border=\"1\" class=\"dataframe\">\n",
       "  <thead>\n",
       "    <tr style=\"text-align: right;\">\n",
       "      <th></th>\n",
       "      <th>sex</th>\n",
       "      <th>length</th>\n",
       "      <th>diameter</th>\n",
       "      <th>height</th>\n",
       "      <th>whole weight</th>\n",
       "      <th>shucked weight</th>\n",
       "      <th>viscera weight</th>\n",
       "      <th>shell weight</th>\n",
       "      <th>rings</th>\n",
       "      <th>features</th>\n",
       "      <th>label</th>\n",
       "    </tr>\n",
       "  </thead>\n",
       "  <tbody>\n",
       "    <tr>\n",
       "      <th>0</th>\n",
       "      <td>0</td>\n",
       "      <td>0.275</td>\n",
       "      <td>0.195</td>\n",
       "      <td>0.070</td>\n",
       "      <td>0.0800</td>\n",
       "      <td>0.0310</td>\n",
       "      <td>0.0215</td>\n",
       "      <td>0.0250</td>\n",
       "      <td>5</td>\n",
       "      <td>[0.275, 0.195, 0.07, 0.08, 0.031, 0.0215, 0.02...</td>\n",
       "      <td>2.0</td>\n",
       "    </tr>\n",
       "    <tr>\n",
       "      <th>1</th>\n",
       "      <td>0</td>\n",
       "      <td>0.305</td>\n",
       "      <td>0.230</td>\n",
       "      <td>0.080</td>\n",
       "      <td>0.1560</td>\n",
       "      <td>0.0675</td>\n",
       "      <td>0.0345</td>\n",
       "      <td>0.0480</td>\n",
       "      <td>7</td>\n",
       "      <td>[0.305, 0.23, 0.08, 0.156, 0.0675, 0.0345, 0.0...</td>\n",
       "      <td>2.0</td>\n",
       "    </tr>\n",
       "    <tr>\n",
       "      <th>2</th>\n",
       "      <td>0</td>\n",
       "      <td>0.345</td>\n",
       "      <td>0.260</td>\n",
       "      <td>0.090</td>\n",
       "      <td>0.2070</td>\n",
       "      <td>0.0775</td>\n",
       "      <td>0.0435</td>\n",
       "      <td>0.0765</td>\n",
       "      <td>10</td>\n",
       "      <td>[0.345, 0.26, 0.09, 0.207, 0.0775, 0.0435, 0.0...</td>\n",
       "      <td>2.0</td>\n",
       "    </tr>\n",
       "    <tr>\n",
       "      <th>3</th>\n",
       "      <td>0</td>\n",
       "      <td>0.360</td>\n",
       "      <td>0.270</td>\n",
       "      <td>0.090</td>\n",
       "      <td>0.1885</td>\n",
       "      <td>0.0845</td>\n",
       "      <td>0.0385</td>\n",
       "      <td>0.0550</td>\n",
       "      <td>5</td>\n",
       "      <td>[0.36, 0.27, 0.09, 0.1885, 0.0845, 0.0385, 0.0...</td>\n",
       "      <td>2.0</td>\n",
       "    </tr>\n",
       "    <tr>\n",
       "      <th>4</th>\n",
       "      <td>0</td>\n",
       "      <td>0.370</td>\n",
       "      <td>0.290</td>\n",
       "      <td>0.115</td>\n",
       "      <td>0.2500</td>\n",
       "      <td>0.1110</td>\n",
       "      <td>0.0570</td>\n",
       "      <td>0.0750</td>\n",
       "      <td>9</td>\n",
       "      <td>[0.37, 0.29, 0.115, 0.25, 0.111, 0.057, 0.075,...</td>\n",
       "      <td>2.0</td>\n",
       "    </tr>\n",
       "  </tbody>\n",
       "</table>\n",
       "</div>"
      ],
      "text/plain": [
       "   sex  length  diameter  height  whole weight  shucked weight  \\\n",
       "0    0   0.275     0.195   0.070        0.0800          0.0310   \n",
       "1    0   0.305     0.230   0.080        0.1560          0.0675   \n",
       "2    0   0.345     0.260   0.090        0.2070          0.0775   \n",
       "3    0   0.360     0.270   0.090        0.1885          0.0845   \n",
       "4    0   0.370     0.290   0.115        0.2500          0.1110   \n",
       "\n",
       "   viscera weight  shell weight  rings  \\\n",
       "0          0.0215        0.0250      5   \n",
       "1          0.0345        0.0480      7   \n",
       "2          0.0435        0.0765     10   \n",
       "3          0.0385        0.0550      5   \n",
       "4          0.0570        0.0750      9   \n",
       "\n",
       "                                            features  label  \n",
       "0  [0.275, 0.195, 0.07, 0.08, 0.031, 0.0215, 0.02...    2.0  \n",
       "1  [0.305, 0.23, 0.08, 0.156, 0.0675, 0.0345, 0.0...    2.0  \n",
       "2  [0.345, 0.26, 0.09, 0.207, 0.0775, 0.0435, 0.0...    2.0  \n",
       "3  [0.36, 0.27, 0.09, 0.1885, 0.0845, 0.0385, 0.0...    2.0  \n",
       "4  [0.37, 0.29, 0.115, 0.25, 0.111, 0.057, 0.075,...    2.0  "
      ]
     },
     "execution_count": 20,
     "metadata": {},
     "output_type": "execute_result"
    }
   ],
   "source": [
    "pre_process_train_sdf\\\n",
    "    .limit(5)\\\n",
    "    .toPandas()"
   ]
  },
  {
   "cell_type": "code",
   "execution_count": 21,
   "metadata": {
    "ExecuteTime": {
     "end_time": "2017-06-20T18:19:17.037691Z",
     "start_time": "2017-06-20T18:19:15.391109Z"
    },
    "collapsed": true
   },
   "outputs": [],
   "source": [
    "lr_model = LogisticRegression(maxIter=1000, regParam=1.0)\n",
    "lr_clf = lr_model.fit(pre_process_train_sdf)"
   ]
  },
  {
   "cell_type": "code",
   "execution_count": 22,
   "metadata": {
    "ExecuteTime": {
     "end_time": "2017-06-20T18:19:17.079071Z",
     "start_time": "2017-06-20T18:19:17.039366Z"
    }
   },
   "outputs": [
    {
     "data": {
      "text/plain": [
       "DenseMatrix(3, 8, [0.2687, 0.3461, 0.7352, 0.0898, 0.2073, 0.3757, 0.2823, 0.0102, ..., 0.4235, 0.5437, 1.2315, 0.0982, 0.1656, 0.5003, 0.3661, 0.0169], 1)"
      ]
     },
     "execution_count": 22,
     "metadata": {},
     "output_type": "execute_result"
    }
   ],
   "source": [
    "lr_clf.coefficientMatrix"
   ]
  },
  {
   "cell_type": "code",
   "execution_count": 23,
   "metadata": {
    "ExecuteTime": {
     "end_time": "2017-06-20T18:19:17.265954Z",
     "start_time": "2017-06-20T18:19:17.080710Z"
    }
   },
   "outputs": [
    {
     "data": {
      "text/html": [
       "<div>\n",
       "<style>\n",
       "    .dataframe thead tr:only-child th {\n",
       "        text-align: right;\n",
       "    }\n",
       "\n",
       "    .dataframe thead th {\n",
       "        text-align: left;\n",
       "    }\n",
       "\n",
       "    .dataframe tbody tr th {\n",
       "        vertical-align: top;\n",
       "    }\n",
       "</style>\n",
       "<table border=\"1\" class=\"dataframe\">\n",
       "  <thead>\n",
       "    <tr style=\"text-align: right;\">\n",
       "      <th></th>\n",
       "      <th>sex</th>\n",
       "      <th>length</th>\n",
       "      <th>diameter</th>\n",
       "      <th>height</th>\n",
       "      <th>whole weight</th>\n",
       "      <th>shucked weight</th>\n",
       "      <th>viscera weight</th>\n",
       "      <th>shell weight</th>\n",
       "      <th>rings</th>\n",
       "      <th>features</th>\n",
       "      <th>label</th>\n",
       "      <th>rawPrediction</th>\n",
       "      <th>probability</th>\n",
       "      <th>prediction</th>\n",
       "    </tr>\n",
       "  </thead>\n",
       "  <tbody>\n",
       "    <tr>\n",
       "      <th>0</th>\n",
       "      <td>0</td>\n",
       "      <td>0.325</td>\n",
       "      <td>0.260</td>\n",
       "      <td>0.09</td>\n",
       "      <td>0.1915</td>\n",
       "      <td>0.0850</td>\n",
       "      <td>0.0360</td>\n",
       "      <td>0.062</td>\n",
       "      <td>7</td>\n",
       "      <td>[0.325, 0.26, 0.09, 0.1915, 0.085, 0.036, 0.06...</td>\n",
       "      <td>2.0</td>\n",
       "      <td>[-0.236427150554, 0.786129248705, -0.549702098...</td>\n",
       "      <td>[0.221663526142, 0.616289600271, 0.162046873587]</td>\n",
       "      <td>1.0</td>\n",
       "    </tr>\n",
       "    <tr>\n",
       "      <th>1</th>\n",
       "      <td>0</td>\n",
       "      <td>0.345</td>\n",
       "      <td>0.250</td>\n",
       "      <td>0.09</td>\n",
       "      <td>0.2030</td>\n",
       "      <td>0.0780</td>\n",
       "      <td>0.0590</td>\n",
       "      <td>0.055</td>\n",
       "      <td>6</td>\n",
       "      <td>[0.345, 0.25, 0.09, 0.203, 0.078, 0.059, 0.055...</td>\n",
       "      <td>2.0</td>\n",
       "      <td>[-0.238440021138, 0.793063769722, -0.554623748...</td>\n",
       "      <td>[0.220545744487, 0.6186928353, 0.160761420214]</td>\n",
       "      <td>1.0</td>\n",
       "    </tr>\n",
       "    <tr>\n",
       "      <th>2</th>\n",
       "      <td>0</td>\n",
       "      <td>0.360</td>\n",
       "      <td>0.265</td>\n",
       "      <td>0.09</td>\n",
       "      <td>0.2065</td>\n",
       "      <td>0.0780</td>\n",
       "      <td>0.0570</td>\n",
       "      <td>0.060</td>\n",
       "      <td>8</td>\n",
       "      <td>[0.36, 0.265, 0.09, 0.2065, 0.078, 0.057, 0.06...</td>\n",
       "      <td>2.0</td>\n",
       "      <td>[-0.207896524299, 0.713098196191, -0.505201671...</td>\n",
       "      <td>[0.235039446423, 0.59036918451, 0.174591369068]</td>\n",
       "      <td>1.0</td>\n",
       "    </tr>\n",
       "    <tr>\n",
       "      <th>3</th>\n",
       "      <td>0</td>\n",
       "      <td>0.370</td>\n",
       "      <td>0.275</td>\n",
       "      <td>0.10</td>\n",
       "      <td>0.2225</td>\n",
       "      <td>0.0930</td>\n",
       "      <td>0.0260</td>\n",
       "      <td>0.080</td>\n",
       "      <td>8</td>\n",
       "      <td>[0.37, 0.275, 0.1, 0.2225, 0.093, 0.026, 0.08,...</td>\n",
       "      <td>2.0</td>\n",
       "      <td>[-0.195848572141, 0.683193983099, -0.487345410...</td>\n",
       "      <td>[0.240631211284, 0.579582532645, 0.179786256071]</td>\n",
       "      <td>1.0</td>\n",
       "    </tr>\n",
       "    <tr>\n",
       "      <th>4</th>\n",
       "      <td>0</td>\n",
       "      <td>0.370</td>\n",
       "      <td>0.280</td>\n",
       "      <td>0.11</td>\n",
       "      <td>0.2305</td>\n",
       "      <td>0.0945</td>\n",
       "      <td>0.0465</td>\n",
       "      <td>0.075</td>\n",
       "      <td>10</td>\n",
       "      <td>[0.37, 0.28, 0.11, 0.2305, 0.0945, 0.0465, 0.0...</td>\n",
       "      <td>2.0</td>\n",
       "      <td>[-0.159101073434, 0.588213190107, -0.429112116...</td>\n",
       "      <td>[0.258084962785, 0.54490044452, 0.197014592695]</td>\n",
       "      <td>1.0</td>\n",
       "    </tr>\n",
       "  </tbody>\n",
       "</table>\n",
       "</div>"
      ],
      "text/plain": [
       "   sex  length  diameter  height  whole weight  shucked weight  \\\n",
       "0    0   0.325     0.260    0.09        0.1915          0.0850   \n",
       "1    0   0.345     0.250    0.09        0.2030          0.0780   \n",
       "2    0   0.360     0.265    0.09        0.2065          0.0780   \n",
       "3    0   0.370     0.275    0.10        0.2225          0.0930   \n",
       "4    0   0.370     0.280    0.11        0.2305          0.0945   \n",
       "\n",
       "   viscera weight  shell weight  rings  \\\n",
       "0          0.0360         0.062      7   \n",
       "1          0.0590         0.055      6   \n",
       "2          0.0570         0.060      8   \n",
       "3          0.0260         0.080      8   \n",
       "4          0.0465         0.075     10   \n",
       "\n",
       "                                            features  label  \\\n",
       "0  [0.325, 0.26, 0.09, 0.1915, 0.085, 0.036, 0.06...    2.0   \n",
       "1  [0.345, 0.25, 0.09, 0.203, 0.078, 0.059, 0.055...    2.0   \n",
       "2  [0.36, 0.265, 0.09, 0.2065, 0.078, 0.057, 0.06...    2.0   \n",
       "3  [0.37, 0.275, 0.1, 0.2225, 0.093, 0.026, 0.08,...    2.0   \n",
       "4  [0.37, 0.28, 0.11, 0.2305, 0.0945, 0.0465, 0.0...    2.0   \n",
       "\n",
       "                                       rawPrediction  \\\n",
       "0  [-0.236427150554, 0.786129248705, -0.549702098...   \n",
       "1  [-0.238440021138, 0.793063769722, -0.554623748...   \n",
       "2  [-0.207896524299, 0.713098196191, -0.505201671...   \n",
       "3  [-0.195848572141, 0.683193983099, -0.487345410...   \n",
       "4  [-0.159101073434, 0.588213190107, -0.429112116...   \n",
       "\n",
       "                                        probability  prediction  \n",
       "0  [0.221663526142, 0.616289600271, 0.162046873587]         1.0  \n",
       "1    [0.220545744487, 0.6186928353, 0.160761420214]         1.0  \n",
       "2   [0.235039446423, 0.59036918451, 0.174591369068]         1.0  \n",
       "3  [0.240631211284, 0.579582532645, 0.179786256071]         1.0  \n",
       "4   [0.258084962785, 0.54490044452, 0.197014592695]         1.0  "
      ]
     },
     "execution_count": 23,
     "metadata": {},
     "output_type": "execute_result"
    }
   ],
   "source": [
    "test_pred_sdf = lr_clf.transform(pre_process_test_sdf)\n",
    "test_pred_sdf\\\n",
    "    .limit(5)\\\n",
    "    .toPandas()"
   ]
  },
  {
   "cell_type": "markdown",
   "metadata": {},
   "source": [
    "# Extracting the Probability\n",
    "Here's a really annoying thing about ML. The `rawPrediction` and `probability` columns come as vector types--not array types. Hence, we cannot index them directly."
   ]
  },
  {
   "cell_type": "code",
   "execution_count": 24,
   "metadata": {
    "ExecuteTime": {
     "end_time": "2017-06-20T18:19:17.334898Z",
     "start_time": "2017-06-20T18:19:17.267281Z"
    }
   },
   "outputs": [
    {
     "data": {
      "text/plain": [
       "DataFrame[sex: bigint, length: double, diameter: double, height: double, whole weight: double, shucked weight: double, viscera weight: double, shell weight: double, rings: bigint, features: vector, label: double, rawPrediction: vector, probability: vector, prediction: double]"
      ]
     },
     "execution_count": 24,
     "metadata": {},
     "output_type": "execute_result"
    }
   ],
   "source": [
    "lr_clf.transform(pre_process_test_sdf)"
   ]
  },
  {
   "cell_type": "code",
   "execution_count": 25,
   "metadata": {
    "ExecuteTime": {
     "end_time": "2017-06-20T18:19:17.540359Z",
     "start_time": "2017-06-20T18:19:17.336280Z"
    }
   },
   "outputs": [
    {
     "ename": "AnalysisException",
     "evalue": "u\"Can't extract value from probability#410;\"",
     "output_type": "error",
     "traceback": [
      "\u001b[0;31m---------------------------------------------------------------------------\u001b[0m",
      "\u001b[0;31mAnalysisException\u001b[0m                         Traceback (most recent call last)",
      "\u001b[0;32m<ipython-input-25-8b107ae70cb0>\u001b[0m in \u001b[0;36m<module>\u001b[0;34m()\u001b[0m\n\u001b[0;32m----> 1\u001b[0;31m \u001b[0mlr_clf\u001b[0m    \u001b[0;34m.\u001b[0m\u001b[0mtransform\u001b[0m\u001b[0;34m(\u001b[0m\u001b[0mpre_process_test_sdf\u001b[0m\u001b[0;34m)\u001b[0m    \u001b[0;34m.\u001b[0m\u001b[0mselect\u001b[0m\u001b[0;34m(\u001b[0m\u001b[0mcol\u001b[0m\u001b[0;34m(\u001b[0m\u001b[0;34m'probability'\u001b[0m\u001b[0;34m)\u001b[0m\u001b[0;34m[\u001b[0m\u001b[0;36m0\u001b[0m\u001b[0;34m]\u001b[0m\u001b[0;34m)\u001b[0m\u001b[0;34m\u001b[0m\u001b[0m\n\u001b[0m",
      "\u001b[0;32m/Users/gregorytam/spark-2.1.1-bin-hadoop2.7/python/pyspark/sql/dataframe.pyc\u001b[0m in \u001b[0;36mselect\u001b[0;34m(self, *cols)\u001b[0m\n\u001b[1;32m    991\u001b[0m         \u001b[0;34m[\u001b[0m\u001b[0mRow\u001b[0m\u001b[0;34m(\u001b[0m\u001b[0mname\u001b[0m\u001b[0;34m=\u001b[0m\u001b[0;34mu'Alice'\u001b[0m\u001b[0;34m,\u001b[0m \u001b[0mage\u001b[0m\u001b[0;34m=\u001b[0m\u001b[0;36m12\u001b[0m\u001b[0;34m)\u001b[0m\u001b[0;34m,\u001b[0m \u001b[0mRow\u001b[0m\u001b[0;34m(\u001b[0m\u001b[0mname\u001b[0m\u001b[0;34m=\u001b[0m\u001b[0;34mu'Bob'\u001b[0m\u001b[0;34m,\u001b[0m \u001b[0mage\u001b[0m\u001b[0;34m=\u001b[0m\u001b[0;36m15\u001b[0m\u001b[0;34m)\u001b[0m\u001b[0;34m]\u001b[0m\u001b[0;34m\u001b[0m\u001b[0m\n\u001b[1;32m    992\u001b[0m         \"\"\"\n\u001b[0;32m--> 993\u001b[0;31m         \u001b[0mjdf\u001b[0m \u001b[0;34m=\u001b[0m \u001b[0mself\u001b[0m\u001b[0;34m.\u001b[0m\u001b[0m_jdf\u001b[0m\u001b[0;34m.\u001b[0m\u001b[0mselect\u001b[0m\u001b[0;34m(\u001b[0m\u001b[0mself\u001b[0m\u001b[0;34m.\u001b[0m\u001b[0m_jcols\u001b[0m\u001b[0;34m(\u001b[0m\u001b[0;34m*\u001b[0m\u001b[0mcols\u001b[0m\u001b[0;34m)\u001b[0m\u001b[0;34m)\u001b[0m\u001b[0;34m\u001b[0m\u001b[0m\n\u001b[0m\u001b[1;32m    994\u001b[0m         \u001b[0;32mreturn\u001b[0m \u001b[0mDataFrame\u001b[0m\u001b[0;34m(\u001b[0m\u001b[0mjdf\u001b[0m\u001b[0;34m,\u001b[0m \u001b[0mself\u001b[0m\u001b[0;34m.\u001b[0m\u001b[0msql_ctx\u001b[0m\u001b[0;34m)\u001b[0m\u001b[0;34m\u001b[0m\u001b[0m\n\u001b[1;32m    995\u001b[0m \u001b[0;34m\u001b[0m\u001b[0m\n",
      "\u001b[0;32m/Users/gregorytam/spark-2.1.1-bin-hadoop2.7/python/lib/py4j-0.10.4-src.zip/py4j/java_gateway.py\u001b[0m in \u001b[0;36m__call__\u001b[0;34m(self, *args)\u001b[0m\n\u001b[1;32m   1131\u001b[0m         \u001b[0manswer\u001b[0m \u001b[0;34m=\u001b[0m \u001b[0mself\u001b[0m\u001b[0;34m.\u001b[0m\u001b[0mgateway_client\u001b[0m\u001b[0;34m.\u001b[0m\u001b[0msend_command\u001b[0m\u001b[0;34m(\u001b[0m\u001b[0mcommand\u001b[0m\u001b[0;34m)\u001b[0m\u001b[0;34m\u001b[0m\u001b[0m\n\u001b[1;32m   1132\u001b[0m         return_value = get_return_value(\n\u001b[0;32m-> 1133\u001b[0;31m             answer, self.gateway_client, self.target_id, self.name)\n\u001b[0m\u001b[1;32m   1134\u001b[0m \u001b[0;34m\u001b[0m\u001b[0m\n\u001b[1;32m   1135\u001b[0m         \u001b[0;32mfor\u001b[0m \u001b[0mtemp_arg\u001b[0m \u001b[0;32min\u001b[0m \u001b[0mtemp_args\u001b[0m\u001b[0;34m:\u001b[0m\u001b[0;34m\u001b[0m\u001b[0m\n",
      "\u001b[0;32m/Users/gregorytam/spark-2.1.1-bin-hadoop2.7/python/pyspark/sql/utils.pyc\u001b[0m in \u001b[0;36mdeco\u001b[0;34m(*a, **kw)\u001b[0m\n\u001b[1;32m     67\u001b[0m                                              e.java_exception.getStackTrace()))\n\u001b[1;32m     68\u001b[0m             \u001b[0;32mif\u001b[0m \u001b[0ms\u001b[0m\u001b[0;34m.\u001b[0m\u001b[0mstartswith\u001b[0m\u001b[0;34m(\u001b[0m\u001b[0;34m'org.apache.spark.sql.AnalysisException: '\u001b[0m\u001b[0;34m)\u001b[0m\u001b[0;34m:\u001b[0m\u001b[0;34m\u001b[0m\u001b[0m\n\u001b[0;32m---> 69\u001b[0;31m                 \u001b[0;32mraise\u001b[0m \u001b[0mAnalysisException\u001b[0m\u001b[0;34m(\u001b[0m\u001b[0ms\u001b[0m\u001b[0;34m.\u001b[0m\u001b[0msplit\u001b[0m\u001b[0;34m(\u001b[0m\u001b[0;34m': '\u001b[0m\u001b[0;34m,\u001b[0m \u001b[0;36m1\u001b[0m\u001b[0;34m)\u001b[0m\u001b[0;34m[\u001b[0m\u001b[0;36m1\u001b[0m\u001b[0;34m]\u001b[0m\u001b[0;34m,\u001b[0m \u001b[0mstackTrace\u001b[0m\u001b[0;34m)\u001b[0m\u001b[0;34m\u001b[0m\u001b[0m\n\u001b[0m\u001b[1;32m     70\u001b[0m             \u001b[0;32mif\u001b[0m \u001b[0ms\u001b[0m\u001b[0;34m.\u001b[0m\u001b[0mstartswith\u001b[0m\u001b[0;34m(\u001b[0m\u001b[0;34m'org.apache.spark.sql.catalyst.analysis'\u001b[0m\u001b[0;34m)\u001b[0m\u001b[0;34m:\u001b[0m\u001b[0;34m\u001b[0m\u001b[0m\n\u001b[1;32m     71\u001b[0m                 \u001b[0;32mraise\u001b[0m \u001b[0mAnalysisException\u001b[0m\u001b[0;34m(\u001b[0m\u001b[0ms\u001b[0m\u001b[0;34m.\u001b[0m\u001b[0msplit\u001b[0m\u001b[0;34m(\u001b[0m\u001b[0;34m': '\u001b[0m\u001b[0;34m,\u001b[0m \u001b[0;36m1\u001b[0m\u001b[0;34m)\u001b[0m\u001b[0;34m[\u001b[0m\u001b[0;36m1\u001b[0m\u001b[0;34m]\u001b[0m\u001b[0;34m,\u001b[0m \u001b[0mstackTrace\u001b[0m\u001b[0;34m)\u001b[0m\u001b[0;34m\u001b[0m\u001b[0m\n",
      "\u001b[0;31mAnalysisException\u001b[0m: u\"Can't extract value from probability#410;\""
     ]
    }
   ],
   "source": [
    "lr_clf\\\n",
    "    .transform(pre_process_test_sdf)\\\n",
    "    .select(col('probability')[0])"
   ]
  },
  {
   "cell_type": "code",
   "execution_count": 26,
   "metadata": {
    "ExecuteTime": {
     "end_time": "2017-06-20T18:20:43.971028Z",
     "start_time": "2017-06-20T18:20:43.861878Z"
    }
   },
   "outputs": [
    {
     "ename": "AnalysisException",
     "evalue": "u\"Can't extract value from probability#470;\"",
     "output_type": "error",
     "traceback": [
      "\u001b[0;31m---------------------------------------------------------------------------\u001b[0m",
      "\u001b[0;31mAnalysisException\u001b[0m                         Traceback (most recent call last)",
      "\u001b[0;32m<ipython-input-26-3d5edd6fc450>\u001b[0m in \u001b[0;36m<module>\u001b[0;34m()\u001b[0m\n\u001b[0;32m----> 1\u001b[0;31m \u001b[0mlr_clf\u001b[0m    \u001b[0;34m.\u001b[0m\u001b[0mtransform\u001b[0m\u001b[0;34m(\u001b[0m\u001b[0mpre_process_test_sdf\u001b[0m\u001b[0;34m)\u001b[0m    \u001b[0;34m.\u001b[0m\u001b[0mselectExpr\u001b[0m\u001b[0;34m(\u001b[0m\u001b[0;34m'probability[0]'\u001b[0m\u001b[0;34m)\u001b[0m\u001b[0;34m\u001b[0m\u001b[0m\n\u001b[0m",
      "\u001b[0;32m/Users/gregorytam/spark-2.1.1-bin-hadoop2.7/python/pyspark/sql/dataframe.pyc\u001b[0m in \u001b[0;36mselectExpr\u001b[0;34m(self, *expr)\u001b[0m\n\u001b[1;32m   1005\u001b[0m         \u001b[0;32mif\u001b[0m \u001b[0mlen\u001b[0m\u001b[0;34m(\u001b[0m\u001b[0mexpr\u001b[0m\u001b[0;34m)\u001b[0m \u001b[0;34m==\u001b[0m \u001b[0;36m1\u001b[0m \u001b[0;32mand\u001b[0m \u001b[0misinstance\u001b[0m\u001b[0;34m(\u001b[0m\u001b[0mexpr\u001b[0m\u001b[0;34m[\u001b[0m\u001b[0;36m0\u001b[0m\u001b[0;34m]\u001b[0m\u001b[0;34m,\u001b[0m \u001b[0mlist\u001b[0m\u001b[0;34m)\u001b[0m\u001b[0;34m:\u001b[0m\u001b[0;34m\u001b[0m\u001b[0m\n\u001b[1;32m   1006\u001b[0m             \u001b[0mexpr\u001b[0m \u001b[0;34m=\u001b[0m \u001b[0mexpr\u001b[0m\u001b[0;34m[\u001b[0m\u001b[0;36m0\u001b[0m\u001b[0;34m]\u001b[0m\u001b[0;34m\u001b[0m\u001b[0m\n\u001b[0;32m-> 1007\u001b[0;31m         \u001b[0mjdf\u001b[0m \u001b[0;34m=\u001b[0m \u001b[0mself\u001b[0m\u001b[0;34m.\u001b[0m\u001b[0m_jdf\u001b[0m\u001b[0;34m.\u001b[0m\u001b[0mselectExpr\u001b[0m\u001b[0;34m(\u001b[0m\u001b[0mself\u001b[0m\u001b[0;34m.\u001b[0m\u001b[0m_jseq\u001b[0m\u001b[0;34m(\u001b[0m\u001b[0mexpr\u001b[0m\u001b[0;34m)\u001b[0m\u001b[0;34m)\u001b[0m\u001b[0;34m\u001b[0m\u001b[0m\n\u001b[0m\u001b[1;32m   1008\u001b[0m         \u001b[0;32mreturn\u001b[0m \u001b[0mDataFrame\u001b[0m\u001b[0;34m(\u001b[0m\u001b[0mjdf\u001b[0m\u001b[0;34m,\u001b[0m \u001b[0mself\u001b[0m\u001b[0;34m.\u001b[0m\u001b[0msql_ctx\u001b[0m\u001b[0;34m)\u001b[0m\u001b[0;34m\u001b[0m\u001b[0m\n\u001b[1;32m   1009\u001b[0m \u001b[0;34m\u001b[0m\u001b[0m\n",
      "\u001b[0;32m/Users/gregorytam/spark-2.1.1-bin-hadoop2.7/python/lib/py4j-0.10.4-src.zip/py4j/java_gateway.py\u001b[0m in \u001b[0;36m__call__\u001b[0;34m(self, *args)\u001b[0m\n\u001b[1;32m   1131\u001b[0m         \u001b[0manswer\u001b[0m \u001b[0;34m=\u001b[0m \u001b[0mself\u001b[0m\u001b[0;34m.\u001b[0m\u001b[0mgateway_client\u001b[0m\u001b[0;34m.\u001b[0m\u001b[0msend_command\u001b[0m\u001b[0;34m(\u001b[0m\u001b[0mcommand\u001b[0m\u001b[0;34m)\u001b[0m\u001b[0;34m\u001b[0m\u001b[0m\n\u001b[1;32m   1132\u001b[0m         return_value = get_return_value(\n\u001b[0;32m-> 1133\u001b[0;31m             answer, self.gateway_client, self.target_id, self.name)\n\u001b[0m\u001b[1;32m   1134\u001b[0m \u001b[0;34m\u001b[0m\u001b[0m\n\u001b[1;32m   1135\u001b[0m         \u001b[0;32mfor\u001b[0m \u001b[0mtemp_arg\u001b[0m \u001b[0;32min\u001b[0m \u001b[0mtemp_args\u001b[0m\u001b[0;34m:\u001b[0m\u001b[0;34m\u001b[0m\u001b[0m\n",
      "\u001b[0;32m/Users/gregorytam/spark-2.1.1-bin-hadoop2.7/python/pyspark/sql/utils.pyc\u001b[0m in \u001b[0;36mdeco\u001b[0;34m(*a, **kw)\u001b[0m\n\u001b[1;32m     67\u001b[0m                                              e.java_exception.getStackTrace()))\n\u001b[1;32m     68\u001b[0m             \u001b[0;32mif\u001b[0m \u001b[0ms\u001b[0m\u001b[0;34m.\u001b[0m\u001b[0mstartswith\u001b[0m\u001b[0;34m(\u001b[0m\u001b[0;34m'org.apache.spark.sql.AnalysisException: '\u001b[0m\u001b[0;34m)\u001b[0m\u001b[0;34m:\u001b[0m\u001b[0;34m\u001b[0m\u001b[0m\n\u001b[0;32m---> 69\u001b[0;31m                 \u001b[0;32mraise\u001b[0m \u001b[0mAnalysisException\u001b[0m\u001b[0;34m(\u001b[0m\u001b[0ms\u001b[0m\u001b[0;34m.\u001b[0m\u001b[0msplit\u001b[0m\u001b[0;34m(\u001b[0m\u001b[0;34m': '\u001b[0m\u001b[0;34m,\u001b[0m \u001b[0;36m1\u001b[0m\u001b[0;34m)\u001b[0m\u001b[0;34m[\u001b[0m\u001b[0;36m1\u001b[0m\u001b[0;34m]\u001b[0m\u001b[0;34m,\u001b[0m \u001b[0mstackTrace\u001b[0m\u001b[0;34m)\u001b[0m\u001b[0;34m\u001b[0m\u001b[0m\n\u001b[0m\u001b[1;32m     70\u001b[0m             \u001b[0;32mif\u001b[0m \u001b[0ms\u001b[0m\u001b[0;34m.\u001b[0m\u001b[0mstartswith\u001b[0m\u001b[0;34m(\u001b[0m\u001b[0;34m'org.apache.spark.sql.catalyst.analysis'\u001b[0m\u001b[0;34m)\u001b[0m\u001b[0;34m:\u001b[0m\u001b[0;34m\u001b[0m\u001b[0m\n\u001b[1;32m     71\u001b[0m                 \u001b[0;32mraise\u001b[0m \u001b[0mAnalysisException\u001b[0m\u001b[0;34m(\u001b[0m\u001b[0ms\u001b[0m\u001b[0;34m.\u001b[0m\u001b[0msplit\u001b[0m\u001b[0;34m(\u001b[0m\u001b[0;34m': '\u001b[0m\u001b[0;34m,\u001b[0m \u001b[0;36m1\u001b[0m\u001b[0;34m)\u001b[0m\u001b[0;34m[\u001b[0m\u001b[0;36m1\u001b[0m\u001b[0;34m]\u001b[0m\u001b[0;34m,\u001b[0m \u001b[0mstackTrace\u001b[0m\u001b[0;34m)\u001b[0m\u001b[0;34m\u001b[0m\u001b[0m\n",
      "\u001b[0;31mAnalysisException\u001b[0m: u\"Can't extract value from probability#470;\""
     ]
    }
   ],
   "source": [
    "lr_clf\\\n",
    "    .transform(pre_process_test_sdf)\\\n",
    "    .selectExpr('probability[0]')"
   ]
  },
  {
   "cell_type": "markdown",
   "metadata": {},
   "source": [
    "A way to get around this is to change it into an RDD, convert the column into an array, then change the RDD back into a Spark DataFrame. From here, we can extract"
   ]
  },
  {
   "cell_type": "code",
   "execution_count": 27,
   "metadata": {
    "ExecuteTime": {
     "end_time": "2017-06-20T18:20:45.354772Z",
     "start_time": "2017-06-20T18:20:45.137394Z"
    }
   },
   "outputs": [
    {
     "data": {
      "text/plain": [
       "DataFrame[array_length: bigint, first_value: double, probability: array<double>]"
      ]
     },
     "execution_count": 27,
     "metadata": {},
     "output_type": "execute_result"
    }
   ],
   "source": [
    "extracted_pred_sdf = lr_clf\\\n",
    "    .transform(pre_process_test_sdf)\\\n",
    "    .rdd\\\n",
    "    .map(lambda x: Row(probability=[float(i) for i in x.probability],\n",
    "                       first_value=float(x.probability[0]),\n",
    "                       array_length=int(len(x.probability))\n",
    "                      )\n",
    "        )\\\n",
    "    .toDF()\n",
    "    \n",
    "extracted_pred_sdf"
   ]
  },
  {
   "cell_type": "markdown",
   "metadata": {},
   "source": [
    "Now, that our `probability` column is an array type, we can index it."
   ]
  },
  {
   "cell_type": "code",
   "execution_count": 28,
   "metadata": {
    "ExecuteTime": {
     "end_time": "2017-06-20T18:20:48.837428Z",
     "start_time": "2017-06-20T18:20:48.625070Z"
    }
   },
   "outputs": [
    {
     "data": {
      "text/html": [
       "<div>\n",
       "<style>\n",
       "    .dataframe thead tr:only-child th {\n",
       "        text-align: right;\n",
       "    }\n",
       "\n",
       "    .dataframe thead th {\n",
       "        text-align: left;\n",
       "    }\n",
       "\n",
       "    .dataframe tbody tr th {\n",
       "        vertical-align: top;\n",
       "    }\n",
       "</style>\n",
       "<table border=\"1\" class=\"dataframe\">\n",
       "  <thead>\n",
       "    <tr style=\"text-align: right;\">\n",
       "      <th></th>\n",
       "      <th>array_length</th>\n",
       "      <th>first_value</th>\n",
       "      <th>probability</th>\n",
       "      <th>probability[0]</th>\n",
       "    </tr>\n",
       "  </thead>\n",
       "  <tbody>\n",
       "    <tr>\n",
       "      <th>0</th>\n",
       "      <td>3</td>\n",
       "      <td>0.221664</td>\n",
       "      <td>[0.221663526142, 0.616289600271, 0.162046873587]</td>\n",
       "      <td>0.221664</td>\n",
       "    </tr>\n",
       "    <tr>\n",
       "      <th>1</th>\n",
       "      <td>3</td>\n",
       "      <td>0.220546</td>\n",
       "      <td>[0.220545744487, 0.6186928353, 0.160761420214]</td>\n",
       "      <td>0.220546</td>\n",
       "    </tr>\n",
       "    <tr>\n",
       "      <th>2</th>\n",
       "      <td>3</td>\n",
       "      <td>0.235039</td>\n",
       "      <td>[0.235039446423, 0.59036918451, 0.174591369068]</td>\n",
       "      <td>0.235039</td>\n",
       "    </tr>\n",
       "    <tr>\n",
       "      <th>3</th>\n",
       "      <td>3</td>\n",
       "      <td>0.240631</td>\n",
       "      <td>[0.240631211284, 0.579582532645, 0.179786256071]</td>\n",
       "      <td>0.240631</td>\n",
       "    </tr>\n",
       "    <tr>\n",
       "      <th>4</th>\n",
       "      <td>3</td>\n",
       "      <td>0.258085</td>\n",
       "      <td>[0.258084962785, 0.54490044452, 0.197014592695]</td>\n",
       "      <td>0.258085</td>\n",
       "    </tr>\n",
       "  </tbody>\n",
       "</table>\n",
       "</div>"
      ],
      "text/plain": [
       "   array_length  first_value  \\\n",
       "0             3     0.221664   \n",
       "1             3     0.220546   \n",
       "2             3     0.235039   \n",
       "3             3     0.240631   \n",
       "4             3     0.258085   \n",
       "\n",
       "                                        probability  probability[0]  \n",
       "0  [0.221663526142, 0.616289600271, 0.162046873587]        0.221664  \n",
       "1    [0.220545744487, 0.6186928353, 0.160761420214]        0.220546  \n",
       "2   [0.235039446423, 0.59036918451, 0.174591369068]        0.235039  \n",
       "3  [0.240631211284, 0.579582532645, 0.179786256071]        0.240631  \n",
       "4   [0.258084962785, 0.54490044452, 0.197014592695]        0.258085  "
      ]
     },
     "execution_count": 28,
     "metadata": {},
     "output_type": "execute_result"
    }
   ],
   "source": [
    "extracted_pred_sdf\\\n",
    "    .select('*', col('probability')[0])\\\n",
    "    .limit(5)\\\n",
    "    .toPandas()"
   ]
  }
 ],
 "metadata": {
  "anaconda-cloud": {},
  "hide_input": false,
  "kernelspec": {
   "display_name": "Python 2",
   "language": "python",
   "name": "python2"
  },
  "language_info": {
   "codemirror_mode": {
    "name": "ipython",
    "version": 2
   },
   "file_extension": ".py",
   "mimetype": "text/x-python",
   "name": "python",
   "nbconvert_exporter": "python",
   "pygments_lexer": "ipython2",
   "version": "2.7.13"
  },
  "nav_menu": {
   "height": "304px",
   "width": "188px"
  },
  "toc": {
   "colors": {
    "hover_highlight": "#DAA520",
    "navigate_num": "#000000",
    "navigate_text": "#333333",
    "running_highlight": "#FF0000",
    "selected_highlight": "#FFD700",
    "sidebar_border": "#EEEEEE",
    "wrapper_background": "#FFFFFF"
   },
   "moveMenuLeft": true,
   "nav_menu": {
    "height": "102px",
    "width": "252px"
   },
   "navigate_menu": true,
   "number_sections": true,
   "sideBar": true,
   "threshold": 4,
   "toc_cell": true,
   "toc_section_display": "block",
   "toc_window_display": true,
   "widenNotebook": false
  },
  "toc_position": {
   "height": "982px",
   "left": "0px",
   "right": "auto",
   "top": "106px",
   "width": "212px"
  }
 },
 "nbformat": 4,
 "nbformat_minor": 1
}
