{
 "cells": [
  {
   "cell_type": "markdown",
   "metadata": {},
   "source": [
    "Links to other notebooks in the same folder:\n",
    "<a href='http://pivotal.io/data-science'><img src='https://raw.githubusercontent.com/crawles/Logos/master/Pivotal_TealOnWhite.png' width='200px' align='right'></a>\n",
    "\n",
    "<nav class=\"navbar navbar-light bg-faded\">\n",
    "    <ul class=\"nav navbar-nav\">\n",
    "        <li class=\"\">\n",
    "            <a class=\"nav-link\" href=\"MLlib Example.ipynb\">MLlib Example</a>\n",
    "        </li>\n",
    "        <li class=\"\">\n",
    "            <a class=\"nav-link\">ML Example</a>\n",
    "        </li>\n"
   ]
  },
  {
   "cell_type": "markdown",
   "metadata": {
    "toc": "true"
   },
   "source": [
    "# Table of Contents\n",
    " <p><div class=\"lev1 toc-item\"><a href=\"#Import-useful-libraries\" data-toc-modified-id=\"Import-useful-libraries-1\"><span class=\"toc-item-num\">1&nbsp;&nbsp;</span>Import useful libraries</a></div><div class=\"lev1 toc-item\"><a href=\"#Data\" data-toc-modified-id=\"Data-2\"><span class=\"toc-item-num\">2&nbsp;&nbsp;</span>Data</a></div><div class=\"lev2 toc-item\"><a href=\"#Spark-DataFrames\" data-toc-modified-id=\"Spark-DataFrames-2.1\"><span class=\"toc-item-num\">2.1&nbsp;&nbsp;</span>Spark DataFrames</a></div><div class=\"lev1 toc-item\"><a href=\"#Operations-on-DataFrames\" data-toc-modified-id=\"Operations-on-DataFrames-3\"><span class=\"toc-item-num\">3&nbsp;&nbsp;</span>Operations on DataFrames</a></div><div class=\"lev1 toc-item\"><a href=\"#Modelling\" data-toc-modified-id=\"Modelling-4\"><span class=\"toc-item-num\">4&nbsp;&nbsp;</span>Modelling</a></div>"
   ]
  },
  {
   "cell_type": "markdown",
   "metadata": {},
   "source": [
    "# Import useful libraries"
   ]
  },
  {
   "cell_type": "code",
   "execution_count": 1,
   "metadata": {
    "ExecuteTime": {
     "end_time": "2017-03-07T17:05:16.808260",
     "start_time": "2017-03-07T17:05:16.412228"
    },
    "collapsed": false
   },
   "outputs": [],
   "source": [
    "from datetime import datetime\n",
    "from dateutil.relativedelta import relativedelta\n",
    "import getopt\n",
    "import os\n",
    "import sys\n",
    "import urllib\n",
    "\n",
    "from IPython.core.display import display, HTML\n",
    "from IPython.core.magic import register_cell_magic, register_line_cell_magic, register_line_magic\n",
    "%matplotlib inline\n",
    "import matplotlib as mpl\n",
    "import matplotlib.pyplot as plt\n",
    "import numpy as np\n",
    "import pandas as pd\n",
    "import pandas.io.sql as psql\n",
    "import psycopg2\n",
    "import seaborn as sns\n",
    "\n",
    "from pyspark.ml.classification import LogisticRegression, RandomForestClassifier\n",
    "from pyspark.ml.feature import VectorAssembler, StringIndexer"
   ]
  },
  {
   "cell_type": "code",
   "execution_count": 2,
   "metadata": {
    "ExecuteTime": {
     "end_time": "2017-03-07T17:05:17.208283",
     "start_time": "2017-03-07T17:05:16.809870"
    },
    "collapsed": false
   },
   "outputs": [
    {
     "data": {
      "text/html": [
       "<script>logo = document.getElementById(\"kernel_logo_widget\").getElementsByClassName(\"current_kernel_logo\")[0];\n",
       "logo.src = \"https://github.com/crawles/Logos/blob/master/Pivotal_Python_138x40.png?raw=true\";\n",
       "logo.style = \"display: inline; width:138px; height:40px\";\n",
       "logo.innerHTML = '<a href=\"http://pivotal.io/data-science\">' + logo.innerHTML + '</a>';\n",
       "</script>"
      ],
      "text/plain": [
       "<IPython.core.display.HTML object>"
      ]
     },
     "execution_count": 2,
     "metadata": {},
     "output_type": "execute_result"
    }
   ],
   "source": [
    "# Changes logo to a Pivotal logo\n",
    "jPrefs = urllib.urlopen(\"https://raw.githubusercontent.com/crawles/Logos/master/jupyterPrefs.js\").read()\n",
    "HTML('<script>{}</script>'.format(jPrefs))"
   ]
  },
  {
   "cell_type": "code",
   "execution_count": 3,
   "metadata": {
    "ExecuteTime": {
     "end_time": "2017-03-07T17:05:17.243501",
     "start_time": "2017-03-07T17:05:17.209749"
    },
    "collapsed": false
   },
   "outputs": [
    {
     "data": {
      "text/html": [
       "<style>.container {width:80% !important;}</style>"
      ],
      "text/plain": [
       "<IPython.core.display.HTML object>"
      ]
     },
     "metadata": {},
     "output_type": "display_data"
    }
   ],
   "source": [
    "# Set default cell width\n",
    "display(HTML('<style>.container {width:80% !important;}</style>'))\n",
    "\n",
    "# Set default matplotlib settings\n",
    "mpl.rcParams['figure.figsize'] = (10, 7)\n",
    "mpl.rcParams['lines.linewidth'] = 3\n",
    "mpl.rcParams['figure.titlesize'] = 26\n",
    "mpl.rcParams['axes.labelsize'] = 18\n",
    "mpl.rcParams['axes.titlesize'] = 22\n",
    "mpl.rcParams['xtick.labelsize'] = 14\n",
    "mpl.rcParams['ytick.labelsize'] = 14\n",
    "mpl.rcParams['legend.fontsize'] = 16\n",
    "\n",
    "# Set seaborn colours\n",
    "blue, green, red, purple, yellow, cyan = sns.color_palette()\n",
    "\n",
    "# Spark stuff\n",
    "sqlContext = SQLContext(sc)"
   ]
  },
  {
   "cell_type": "markdown",
   "metadata": {},
   "source": [
    "# Data"
   ]
  },
  {
   "cell_type": "code",
   "execution_count": 4,
   "metadata": {
    "ExecuteTime": {
     "end_time": "2017-03-07T17:05:17.294574",
     "start_time": "2017-03-07T17:05:17.244718"
    },
    "collapsed": false
   },
   "outputs": [
    {
     "data": {
      "text/html": [
       "<div>\n",
       "<table border=\"1\" class=\"dataframe\">\n",
       "  <thead>\n",
       "    <tr style=\"text-align: right;\">\n",
       "      <th></th>\n",
       "      <th>sex</th>\n",
       "      <th>length</th>\n",
       "      <th>diameter</th>\n",
       "      <th>height</th>\n",
       "      <th>whole weight</th>\n",
       "      <th>shucked weight</th>\n",
       "      <th>viscera weight</th>\n",
       "      <th>shell weight</th>\n",
       "      <th>rings</th>\n",
       "    </tr>\n",
       "  </thead>\n",
       "  <tbody>\n",
       "    <tr>\n",
       "      <th>0</th>\n",
       "      <td>2</td>\n",
       "      <td>0.455</td>\n",
       "      <td>0.365</td>\n",
       "      <td>0.095</td>\n",
       "      <td>0.5140</td>\n",
       "      <td>0.2245</td>\n",
       "      <td>0.1010</td>\n",
       "      <td>0.150</td>\n",
       "      <td>15</td>\n",
       "    </tr>\n",
       "    <tr>\n",
       "      <th>1</th>\n",
       "      <td>2</td>\n",
       "      <td>0.350</td>\n",
       "      <td>0.265</td>\n",
       "      <td>0.090</td>\n",
       "      <td>0.2255</td>\n",
       "      <td>0.0995</td>\n",
       "      <td>0.0485</td>\n",
       "      <td>0.070</td>\n",
       "      <td>7</td>\n",
       "    </tr>\n",
       "    <tr>\n",
       "      <th>2</th>\n",
       "      <td>0</td>\n",
       "      <td>0.530</td>\n",
       "      <td>0.420</td>\n",
       "      <td>0.135</td>\n",
       "      <td>0.6770</td>\n",
       "      <td>0.2565</td>\n",
       "      <td>0.1415</td>\n",
       "      <td>0.210</td>\n",
       "      <td>9</td>\n",
       "    </tr>\n",
       "    <tr>\n",
       "      <th>3</th>\n",
       "      <td>2</td>\n",
       "      <td>0.440</td>\n",
       "      <td>0.365</td>\n",
       "      <td>0.125</td>\n",
       "      <td>0.5160</td>\n",
       "      <td>0.2155</td>\n",
       "      <td>0.1140</td>\n",
       "      <td>0.155</td>\n",
       "      <td>10</td>\n",
       "    </tr>\n",
       "    <tr>\n",
       "      <th>4</th>\n",
       "      <td>1</td>\n",
       "      <td>0.330</td>\n",
       "      <td>0.255</td>\n",
       "      <td>0.080</td>\n",
       "      <td>0.2050</td>\n",
       "      <td>0.0895</td>\n",
       "      <td>0.0395</td>\n",
       "      <td>0.055</td>\n",
       "      <td>7</td>\n",
       "    </tr>\n",
       "  </tbody>\n",
       "</table>\n",
       "</div>"
      ],
      "text/plain": [
       "   sex  length  diameter  height  whole weight  shucked weight  \\\n",
       "0    2   0.455     0.365   0.095        0.5140          0.2245   \n",
       "1    2   0.350     0.265   0.090        0.2255          0.0995   \n",
       "2    0   0.530     0.420   0.135        0.6770          0.2565   \n",
       "3    2   0.440     0.365   0.125        0.5160          0.2155   \n",
       "4    1   0.330     0.255   0.080        0.2050          0.0895   \n",
       "\n",
       "   viscera weight  shell weight  rings  \n",
       "0          0.1010         0.150     15  \n",
       "1          0.0485         0.070      7  \n",
       "2          0.1415         0.210      9  \n",
       "3          0.1140         0.155     10  \n",
       "4          0.0395         0.055      7  "
      ]
     },
     "execution_count": 4,
     "metadata": {},
     "output_type": "execute_result"
    }
   ],
   "source": [
    "column_names = [\"sex\", \"length\", \"diameter\", \"height\", \"whole weight\", \n",
    "                \"shucked weight\", \"viscera weight\", \"shell weight\", \"rings\"]\n",
    "abalone_df = pd.read_csv('abalone.csv', names=column_names)\n",
    "abalone_df['sex'] = abalone_df['sex'].map({'F': 0, 'I': 1, 'M': 2})\n",
    "abalone_df.head()"
   ]
  },
  {
   "cell_type": "markdown",
   "metadata": {},
   "source": [
    "## Spark DataFrames\n",
    "Spark is moving towards DataFrames as opposed to RDDs.\n",
    "- <a href=\"https://databricks.com/blog/2015/02/17/introducing-dataframes-in-spark-for-large-scale-data-science.html\">https://databricks.com/blog/2015/02/17/introducing-dataframes-in-spark-for-large-scale-data-science.html</a>\n",
    "- <a href=\"https://www.quora.com/Why-are-there-two-ML-implementations-in-Spark-ML-and-MLlib-and-what-are-their-different-features\">https://www.quora.com/Why-are-there-two-ML-implementations-in-Spark-ML-and-MLlib-and-what-are-their-different-features</a>"
   ]
  },
  {
   "cell_type": "code",
   "execution_count": 5,
   "metadata": {
    "ExecuteTime": {
     "end_time": "2017-03-07T17:05:19.152530",
     "start_time": "2017-03-07T17:05:17.296083"
    },
    "collapsed": false
   },
   "outputs": [
    {
     "data": {
      "text/plain": [
       "[Row(sex=2, length=0.455, diameter=0.365, height=0.095, whole weight=0.514, shucked weight=0.2245, viscera weight=0.10099999999999999, shell weight=0.15, rings=15),\n",
       " Row(sex=2, length=0.35, diameter=0.265, height=0.09, whole weight=0.2255, shucked weight=0.0995, viscera weight=0.0485, shell weight=0.07, rings=7),\n",
       " Row(sex=0, length=0.53, diameter=0.42, height=0.135, whole weight=0.677, shucked weight=0.2565, viscera weight=0.1415, shell weight=0.21, rings=9),\n",
       " Row(sex=2, length=0.44, diameter=0.365, height=0.125, whole weight=0.516, shucked weight=0.2155, viscera weight=0.114, shell weight=0.155, rings=10),\n",
       " Row(sex=1, length=0.33, diameter=0.255, height=0.08, whole weight=0.205, shucked weight=0.0895, viscera weight=0.0395, shell weight=0.055, rings=7)]"
      ]
     },
     "execution_count": 5,
     "metadata": {},
     "output_type": "execute_result"
    }
   ],
   "source": [
    "spark_df = sqlContext.createDataFrame(abalone_df)\n",
    "spark_df.take(5)"
   ]
  },
  {
   "cell_type": "code",
   "execution_count": 6,
   "metadata": {
    "ExecuteTime": {
     "end_time": "2017-03-07T17:05:19.399898",
     "start_time": "2017-03-07T17:05:19.154068"
    },
    "collapsed": false
   },
   "outputs": [
    {
     "data": {
      "text/html": [
       "<div>\n",
       "<table border=\"1\" class=\"dataframe\">\n",
       "  <thead>\n",
       "    <tr style=\"text-align: right;\">\n",
       "      <th></th>\n",
       "      <th>sex</th>\n",
       "      <th>length</th>\n",
       "      <th>diameter</th>\n",
       "      <th>height</th>\n",
       "      <th>whole weight</th>\n",
       "      <th>shucked weight</th>\n",
       "      <th>viscera weight</th>\n",
       "      <th>shell weight</th>\n",
       "      <th>rings</th>\n",
       "    </tr>\n",
       "  </thead>\n",
       "  <tbody>\n",
       "    <tr>\n",
       "      <th>0</th>\n",
       "      <td>2</td>\n",
       "      <td>0.455</td>\n",
       "      <td>0.365</td>\n",
       "      <td>0.095</td>\n",
       "      <td>0.5140</td>\n",
       "      <td>0.2245</td>\n",
       "      <td>0.1010</td>\n",
       "      <td>0.150</td>\n",
       "      <td>15</td>\n",
       "    </tr>\n",
       "    <tr>\n",
       "      <th>1</th>\n",
       "      <td>2</td>\n",
       "      <td>0.350</td>\n",
       "      <td>0.265</td>\n",
       "      <td>0.090</td>\n",
       "      <td>0.2255</td>\n",
       "      <td>0.0995</td>\n",
       "      <td>0.0485</td>\n",
       "      <td>0.070</td>\n",
       "      <td>7</td>\n",
       "    </tr>\n",
       "    <tr>\n",
       "      <th>2</th>\n",
       "      <td>0</td>\n",
       "      <td>0.530</td>\n",
       "      <td>0.420</td>\n",
       "      <td>0.135</td>\n",
       "      <td>0.6770</td>\n",
       "      <td>0.2565</td>\n",
       "      <td>0.1415</td>\n",
       "      <td>0.210</td>\n",
       "      <td>9</td>\n",
       "    </tr>\n",
       "    <tr>\n",
       "      <th>3</th>\n",
       "      <td>2</td>\n",
       "      <td>0.440</td>\n",
       "      <td>0.365</td>\n",
       "      <td>0.125</td>\n",
       "      <td>0.5160</td>\n",
       "      <td>0.2155</td>\n",
       "      <td>0.1140</td>\n",
       "      <td>0.155</td>\n",
       "      <td>10</td>\n",
       "    </tr>\n",
       "    <tr>\n",
       "      <th>4</th>\n",
       "      <td>1</td>\n",
       "      <td>0.330</td>\n",
       "      <td>0.255</td>\n",
       "      <td>0.080</td>\n",
       "      <td>0.2050</td>\n",
       "      <td>0.0895</td>\n",
       "      <td>0.0395</td>\n",
       "      <td>0.055</td>\n",
       "      <td>7</td>\n",
       "    </tr>\n",
       "  </tbody>\n",
       "</table>\n",
       "</div>"
      ],
      "text/plain": [
       "   sex  length  diameter  height  whole weight  shucked weight  \\\n",
       "0    2   0.455     0.365   0.095        0.5140          0.2245   \n",
       "1    2   0.350     0.265   0.090        0.2255          0.0995   \n",
       "2    0   0.530     0.420   0.135        0.6770          0.2565   \n",
       "3    2   0.440     0.365   0.125        0.5160          0.2155   \n",
       "4    1   0.330     0.255   0.080        0.2050          0.0895   \n",
       "\n",
       "   viscera weight  shell weight  rings  \n",
       "0          0.1010         0.150     15  \n",
       "1          0.0485         0.070      7  \n",
       "2          0.1415         0.210      9  \n",
       "3          0.1140         0.155     10  \n",
       "4          0.0395         0.055      7  "
      ]
     },
     "execution_count": 6,
     "metadata": {},
     "output_type": "execute_result"
    }
   ],
   "source": [
    "# Convert to Pandas DataFrame\n",
    "spark_df.toPandas().head(5)"
   ]
  },
  {
   "cell_type": "markdown",
   "metadata": {},
   "source": [
    "# Operations on DataFrames"
   ]
  },
  {
   "cell_type": "code",
   "execution_count": 7,
   "metadata": {
    "ExecuteTime": {
     "end_time": "2017-03-07T17:05:19.613526",
     "start_time": "2017-03-07T17:05:19.401631"
    },
    "collapsed": false
   },
   "outputs": [
    {
     "data": {
      "text/plain": [
       "[Row(sex=2, length=0.455, diameter=0.365, height=0.095, whole weight=0.514, shucked weight=0.2245, viscera weight=0.10099999999999999, shell weight=0.15, rings=15),\n",
       " Row(sex=2, length=0.35, diameter=0.265, height=0.09, whole weight=0.2255, shucked weight=0.0995, viscera weight=0.0485, shell weight=0.07, rings=7),\n",
       " Row(sex=0, length=0.53, diameter=0.42, height=0.135, whole weight=0.677, shucked weight=0.2565, viscera weight=0.1415, shell weight=0.21, rings=9),\n",
       " Row(sex=2, length=0.44, diameter=0.365, height=0.125, whole weight=0.516, shucked weight=0.2155, viscera weight=0.114, shell weight=0.155, rings=10),\n",
       " Row(sex=1, length=0.33, diameter=0.255, height=0.08, whole weight=0.205, shucked weight=0.0895, viscera weight=0.0395, shell weight=0.055, rings=7)]"
      ]
     },
     "execution_count": 7,
     "metadata": {},
     "output_type": "execute_result"
    }
   ],
   "source": [
    "# Apply filters\n",
    "spark_df.filter(spark_df.length > 0.3).take(5)"
   ]
  },
  {
   "cell_type": "code",
   "execution_count": 8,
   "metadata": {
    "ExecuteTime": {
     "end_time": "2017-03-07T17:05:20.054982",
     "start_time": "2017-03-07T17:05:19.614880"
    },
    "collapsed": false
   },
   "outputs": [
    {
     "data": {
      "text/plain": [
       "[Row(sex=2, length=0.455, diameter=0.365, height=0.095, whole weight=0.514, shucked weight=0.2245, viscera weight=0.10099999999999999, shell weight=0.15, rings=15),\n",
       " Row(sex=2, length=0.35, diameter=0.265, height=0.09, whole weight=0.2255, shucked weight=0.0995, viscera weight=0.0485, shell weight=0.07, rings=7),\n",
       " Row(sex=0, length=0.53, diameter=0.42, height=0.135, whole weight=0.677, shucked weight=0.2565, viscera weight=0.1415, shell weight=0.21, rings=9),\n",
       " Row(sex=2, length=0.44, diameter=0.365, height=0.125, whole weight=0.516, shucked weight=0.2155, viscera weight=0.114, shell weight=0.155, rings=10),\n",
       " Row(sex=1, length=0.33, diameter=0.255, height=0.08, whole weight=0.205, shucked weight=0.0895, viscera weight=0.0395, shell weight=0.055, rings=7)]"
      ]
     },
     "execution_count": 8,
     "metadata": {},
     "output_type": "execute_result"
    }
   ],
   "source": [
    "# Apply filters using SQL syntax. Cannot put a ';' at the end or it will throw an error.\n",
    "spark_df.registerTempTable('spark_df')\n",
    "sql = '''\n",
    "SELECT *\n",
    "  FROM spark_df\n",
    " WHERE length > 0.3\n",
    "'''\n",
    "sqlContext.sql(sql).take(5)"
   ]
  },
  {
   "cell_type": "code",
   "execution_count": 9,
   "metadata": {
    "ExecuteTime": {
     "end_time": "2017-03-07T17:05:20.151279",
     "start_time": "2017-03-07T17:05:20.056478"
    },
    "collapsed": false
   },
   "outputs": [
    {
     "data": {
      "text/plain": [
       "[Row(sex=2, length=0.455),\n",
       " Row(sex=2, length=0.35),\n",
       " Row(sex=0, length=0.53),\n",
       " Row(sex=2, length=0.44),\n",
       " Row(sex=1, length=0.33)]"
      ]
     },
     "execution_count": 9,
     "metadata": {},
     "output_type": "execute_result"
    }
   ],
   "source": [
    "spark_df.select('sex', 'length').take(5)"
   ]
  },
  {
   "cell_type": "code",
   "execution_count": 10,
   "metadata": {
    "ExecuteTime": {
     "end_time": "2017-03-07T17:05:20.226480",
     "start_time": "2017-03-07T17:05:20.152645"
    },
    "collapsed": false
   },
   "outputs": [
    {
     "data": {
      "text/plain": [
       "[Row(sex=2, length=0.455),\n",
       " Row(sex=2, length=0.35),\n",
       " Row(sex=0, length=0.53),\n",
       " Row(sex=2, length=0.44),\n",
       " Row(sex=1, length=0.33)]"
      ]
     },
     "execution_count": 10,
     "metadata": {},
     "output_type": "execute_result"
    }
   ],
   "source": [
    "spark_df.select(['sex', 'length']).take(5)"
   ]
  },
  {
   "cell_type": "code",
   "execution_count": 11,
   "metadata": {
    "ExecuteTime": {
     "end_time": "2017-03-07T17:05:20.316459",
     "start_time": "2017-03-07T17:05:20.227963"
    },
    "collapsed": false
   },
   "outputs": [
    {
     "data": {
      "text/plain": [
       "[Row(sex=2, length=0.44, diameter=0.365, height=0.125, whole weight=0.516, shucked weight=0.2155, viscera weight=0.114, shell weight=0.155, rings=10),\n",
       " Row(sex=1, length=0.425, diameter=0.3, height=0.095, whole weight=0.3515, shucked weight=0.141, viscera weight=0.0775, shell weight=0.12, rings=8),\n",
       " Row(sex=0, length=0.53, diameter=0.415, height=0.15, whole weight=0.7775, shucked weight=0.237, viscera weight=0.1415, shell weight=0.33, rings=20),\n",
       " Row(sex=0, length=0.47, diameter=0.355, height=0.1, whole weight=0.4755, shucked weight=0.1675, viscera weight=0.0805, shell weight=0.185, rings=10),\n",
       " Row(sex=0, length=0.44, diameter=0.34, height=0.1, whole weight=0.451, shucked weight=0.188, viscera weight=0.087, shell weight=0.13, rings=10)]"
      ]
     },
     "execution_count": 11,
     "metadata": {},
     "output_type": "execute_result"
    }
   ],
   "source": [
    "train_df, test_df = spark_df.randomSplit([0.8, 0.2])\n",
    "test_df.take(5)"
   ]
  },
  {
   "cell_type": "markdown",
   "metadata": {},
   "source": [
    "# Modelling\n",
    "\n",
    "Modelling requires input columns label and features. We will need to take all of our feature information and group them together into a Vector."
   ]
  },
  {
   "cell_type": "code",
   "execution_count": 12,
   "metadata": {
    "ExecuteTime": {
     "end_time": "2017-03-07T17:05:20.369779",
     "start_time": "2017-03-07T17:05:20.317849"
    },
    "collapsed": false
   },
   "outputs": [
    {
     "data": {
      "text/plain": [
       "VectorAssembler_41b0a3e21d30c933b499"
      ]
     },
     "execution_count": 12,
     "metadata": {},
     "output_type": "execute_result"
    }
   ],
   "source": [
    "assembler = VectorAssembler(inputCols=[x for x in train_df.columns[1:]], outputCol='features')\n",
    "assembler"
   ]
  },
  {
   "cell_type": "code",
   "execution_count": 13,
   "metadata": {
    "ExecuteTime": {
     "end_time": "2017-03-07T17:05:20.860642",
     "start_time": "2017-03-07T17:05:20.371078"
    },
    "collapsed": false
   },
   "outputs": [
    {
     "data": {
      "text/plain": [
       "[Row(sex=2, features=DenseVector([0.44, 0.365, 0.125, 0.516, 0.2155, 0.114, 0.155, 10.0])),\n",
       " Row(sex=1, features=DenseVector([0.425, 0.3, 0.095, 0.3515, 0.141, 0.0775, 0.12, 8.0])),\n",
       " Row(sex=0, features=DenseVector([0.53, 0.415, 0.15, 0.7775, 0.237, 0.1415, 0.33, 20.0])),\n",
       " Row(sex=0, features=DenseVector([0.47, 0.355, 0.1, 0.4755, 0.1675, 0.0805, 0.185, 10.0])),\n",
       " Row(sex=0, features=DenseVector([0.44, 0.34, 0.1, 0.451, 0.188, 0.087, 0.13, 10.0]))]"
      ]
     },
     "execution_count": 13,
     "metadata": {},
     "output_type": "execute_result"
    }
   ],
   "source": [
    "train_df = assembler.transform(train_df).select('sex', 'features')\n",
    "\n",
    "test_df = assembler.transform(test_df).select('sex', 'features')\n",
    "test_df.take(5)"
   ]
  },
  {
   "cell_type": "markdown",
   "metadata": {},
   "source": [
    "Next, we need to change our label using StringIndexer which converts our categorical values into indices. They are ordered by frequency."
   ]
  },
  {
   "cell_type": "code",
   "execution_count": 14,
   "metadata": {
    "ExecuteTime": {
     "end_time": "2017-03-07T17:05:21.388997",
     "start_time": "2017-03-07T17:05:20.862039"
    },
    "collapsed": false
   },
   "outputs": [
    {
     "data": {
      "text/plain": [
       "[Row(sex=2, features=DenseVector([0.44, 0.365, 0.125, 0.516, 0.2155, 0.114, 0.155, 10.0]), sex_label=0.0),\n",
       " Row(sex=1, features=DenseVector([0.425, 0.3, 0.095, 0.3515, 0.141, 0.0775, 0.12, 8.0]), sex_label=1.0),\n",
       " Row(sex=0, features=DenseVector([0.53, 0.415, 0.15, 0.7775, 0.237, 0.1415, 0.33, 20.0]), sex_label=2.0),\n",
       " Row(sex=0, features=DenseVector([0.47, 0.355, 0.1, 0.4755, 0.1675, 0.0805, 0.185, 10.0]), sex_label=2.0),\n",
       " Row(sex=0, features=DenseVector([0.44, 0.34, 0.1, 0.451, 0.188, 0.087, 0.13, 10.0]), sex_label=2.0)]"
      ]
     },
     "execution_count": 14,
     "metadata": {},
     "output_type": "execute_result"
    }
   ],
   "source": [
    "stringIndexer = StringIndexer(inputCol='sex', outputCol='sex_label')\n",
    "si_model = stringIndexer.fit(train_df)\n",
    "train_input = si_model.transform(train_df)\n",
    "\n",
    "si_model = stringIndexer.fit(test_df)\n",
    "test_input = si_model.transform(test_df)\n",
    "\n",
    "test_input.take(5)"
   ]
  },
  {
   "cell_type": "markdown",
   "metadata": {},
   "source": [
    "Finally, we can set up and run our model."
   ]
  },
  {
   "cell_type": "code",
   "execution_count": 15,
   "metadata": {
    "ExecuteTime": {
     "end_time": "2017-03-07T17:05:22.675110",
     "start_time": "2017-03-07T17:05:21.390485"
    },
    "collapsed": false
   },
   "outputs": [
    {
     "data": {
      "text/plain": [
       "RandomForestClassificationModel (uid=rfc_fd9333dd79c0) with 3 trees"
      ]
     },
     "execution_count": 15,
     "metadata": {},
     "output_type": "execute_result"
    }
   ],
   "source": [
    "# Set up model\n",
    "rf = RandomForestClassifier(numTrees=3, maxDepth=2, labelCol='sex_label')\n",
    "# Train the model\n",
    "model = rf.fit(train_input)\n",
    "model"
   ]
  },
  {
   "cell_type": "markdown",
   "metadata": {},
   "source": [
    "Now, we apply the model to the test set."
   ]
  },
  {
   "cell_type": "code",
   "execution_count": 16,
   "metadata": {
    "ExecuteTime": {
     "end_time": "2017-03-07T17:05:22.904502",
     "start_time": "2017-03-07T17:05:22.676625"
    },
    "collapsed": false
   },
   "outputs": [
    {
     "data": {
      "text/plain": [
       "[Row(sex=2, features=DenseVector([0.44, 0.365, 0.125, 0.516, 0.2155, 0.114, 0.155, 10.0]), sex_label=0.0, rawPrediction=DenseVector([0.8686, 0.8395, 1.2919]), probability=DenseVector([0.2895, 0.2798, 0.4306]), prediction=2.0),\n",
       " Row(sex=1, features=DenseVector([0.425, 0.3, 0.095, 0.3515, 0.141, 0.0775, 0.12, 8.0]), sex_label=1.0, rawPrediction=DenseVector([0.4699, 0.2069, 2.3232]), probability=DenseVector([0.1566, 0.069, 0.7744]), prediction=2.0),\n",
       " Row(sex=0, features=DenseVector([0.53, 0.415, 0.15, 0.7775, 0.237, 0.1415, 0.33, 20.0]), sex_label=2.0, rawPrediction=DenseVector([1.1247, 0.9742, 0.9012]), probability=DenseVector([0.3749, 0.3247, 0.3004]), prediction=0.0),\n",
       " Row(sex=0, features=DenseVector([0.47, 0.355, 0.1, 0.4755, 0.1675, 0.0805, 0.185, 10.0]), sex_label=2.0, rawPrediction=DenseVector([0.8885, 0.6398, 1.4716]), probability=DenseVector([0.2962, 0.2133, 0.4905]), prediction=2.0),\n",
       " Row(sex=0, features=DenseVector([0.44, 0.34, 0.1, 0.451, 0.188, 0.087, 0.13, 10.0]), sex_label=2.0, rawPrediction=DenseVector([0.8885, 0.6398, 1.4716]), probability=DenseVector([0.2962, 0.2133, 0.4905]), prediction=2.0)]"
      ]
     },
     "execution_count": 16,
     "metadata": {},
     "output_type": "execute_result"
    }
   ],
   "source": [
    "model_results = model.transform(test_input)\n",
    "model_results.take(5)"
   ]
  },
  {
   "cell_type": "code",
   "execution_count": 17,
   "metadata": {
    "ExecuteTime": {
     "end_time": "2017-03-07T17:05:23.575353",
     "start_time": "2017-03-07T17:05:22.906256"
    },
    "collapsed": false
   },
   "outputs": [
    {
     "data": {
      "text/html": [
       "<div>\n",
       "<table border=\"1\" class=\"dataframe\">\n",
       "  <thead>\n",
       "    <tr style=\"text-align: right;\">\n",
       "      <th></th>\n",
       "      <th>sex</th>\n",
       "      <th>features</th>\n",
       "      <th>sex_label</th>\n",
       "      <th>rawPrediction</th>\n",
       "      <th>probability</th>\n",
       "      <th>prediction</th>\n",
       "    </tr>\n",
       "  </thead>\n",
       "  <tbody>\n",
       "    <tr>\n",
       "      <th>0</th>\n",
       "      <td>2</td>\n",
       "      <td>[0.44, 0.365, 0.125, 0.516, 0.2155, 0.114, 0.1...</td>\n",
       "      <td>0.0</td>\n",
       "      <td>[0.868608276782, 0.839513639863, 1.29187808336]</td>\n",
       "      <td>[0.289536092261, 0.279837879954, 0.430626027785]</td>\n",
       "      <td>2.0</td>\n",
       "    </tr>\n",
       "    <tr>\n",
       "      <th>1</th>\n",
       "      <td>1</td>\n",
       "      <td>[0.425, 0.3, 0.095, 0.3515, 0.141, 0.0775, 0.1...</td>\n",
       "      <td>1.0</td>\n",
       "      <td>[0.469944725414, 0.206875786535, 2.32317948805]</td>\n",
       "      <td>[0.156648241805, 0.0689585955116, 0.774393162684]</td>\n",
       "      <td>2.0</td>\n",
       "    </tr>\n",
       "    <tr>\n",
       "      <th>2</th>\n",
       "      <td>0</td>\n",
       "      <td>[0.53, 0.415, 0.15, 0.7775, 0.237, 0.1415, 0.3...</td>\n",
       "      <td>2.0</td>\n",
       "      <td>[1.12465877833, 0.974155782889, 0.901185438783]</td>\n",
       "      <td>[0.374886259443, 0.324718594296, 0.300395146261]</td>\n",
       "      <td>0.0</td>\n",
       "    </tr>\n",
       "    <tr>\n",
       "      <th>3</th>\n",
       "      <td>0</td>\n",
       "      <td>[0.47, 0.355, 0.1, 0.4755, 0.1675, 0.0805, 0.1...</td>\n",
       "      <td>2.0</td>\n",
       "      <td>[0.888513354988, 0.639838083869, 1.47164856114]</td>\n",
       "      <td>[0.296171118329, 0.21327936129, 0.490549520381]</td>\n",
       "      <td>2.0</td>\n",
       "    </tr>\n",
       "    <tr>\n",
       "      <th>4</th>\n",
       "      <td>0</td>\n",
       "      <td>[0.44, 0.34, 0.1, 0.451, 0.188, 0.087, 0.13, 1...</td>\n",
       "      <td>2.0</td>\n",
       "      <td>[0.888513354988, 0.639838083869, 1.47164856114]</td>\n",
       "      <td>[0.296171118329, 0.21327936129, 0.490549520381]</td>\n",
       "      <td>2.0</td>\n",
       "    </tr>\n",
       "  </tbody>\n",
       "</table>\n",
       "</div>"
      ],
      "text/plain": [
       "   sex                                           features  sex_label  \\\n",
       "0    2  [0.44, 0.365, 0.125, 0.516, 0.2155, 0.114, 0.1...        0.0   \n",
       "1    1  [0.425, 0.3, 0.095, 0.3515, 0.141, 0.0775, 0.1...        1.0   \n",
       "2    0  [0.53, 0.415, 0.15, 0.7775, 0.237, 0.1415, 0.3...        2.0   \n",
       "3    0  [0.47, 0.355, 0.1, 0.4755, 0.1675, 0.0805, 0.1...        2.0   \n",
       "4    0  [0.44, 0.34, 0.1, 0.451, 0.188, 0.087, 0.13, 1...        2.0   \n",
       "\n",
       "                                     rawPrediction  \\\n",
       "0  [0.868608276782, 0.839513639863, 1.29187808336]   \n",
       "1  [0.469944725414, 0.206875786535, 2.32317948805]   \n",
       "2  [1.12465877833, 0.974155782889, 0.901185438783]   \n",
       "3  [0.888513354988, 0.639838083869, 1.47164856114]   \n",
       "4  [0.888513354988, 0.639838083869, 1.47164856114]   \n",
       "\n",
       "                                         probability  prediction  \n",
       "0   [0.289536092261, 0.279837879954, 0.430626027785]         2.0  \n",
       "1  [0.156648241805, 0.0689585955116, 0.774393162684]         2.0  \n",
       "2   [0.374886259443, 0.324718594296, 0.300395146261]         0.0  \n",
       "3    [0.296171118329, 0.21327936129, 0.490549520381]         2.0  \n",
       "4    [0.296171118329, 0.21327936129, 0.490549520381]         2.0  "
      ]
     },
     "execution_count": 17,
     "metadata": {},
     "output_type": "execute_result"
    }
   ],
   "source": [
    "model_results.toPandas().head()"
   ]
  }
 ],
 "metadata": {
  "anaconda-cloud": {},
  "hide_input": false,
  "kernelspec": {
   "display_name": "Python [conda root]",
   "language": "python",
   "name": "conda-root-py"
  },
  "language_info": {
   "codemirror_mode": {
    "name": "ipython",
    "version": 2
   },
   "file_extension": ".py",
   "mimetype": "text/x-python",
   "name": "python",
   "nbconvert_exporter": "python",
   "pygments_lexer": "ipython2",
   "version": "2.7.13"
  },
  "nav_menu": {
   "height": "304px",
   "width": "188px"
  },
  "toc": {
   "navigate_menu": true,
   "number_sections": true,
   "sideBar": true,
   "threshold": 6,
   "toc_cell": true,
   "toc_section_display": "block",
   "toc_window_display": true
  },
  "toc_position": {
   "height": "982px",
   "left": "0px",
   "right": "auto",
   "top": "106px",
   "width": "212px"
  }
 },
 "nbformat": 4,
 "nbformat_minor": 0
}
