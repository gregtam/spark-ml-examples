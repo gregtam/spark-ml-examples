{
 "cells": [
  {
   "cell_type": "markdown",
   "metadata": {},
   "source": [
    "Links to other notebooks in the same folder:\n",
    "<a href='http://pivotal.io/data-science'><img src='https://raw.githubusercontent.com/crawles/Logos/master/Pivotal_TealOnWhite.png' width='200px' align='right'></a>\n",
    "\n",
    "<nav class=\"navbar navbar-light bg-faded\">\n",
    "    <ul class=\"nav navbar-nav\">\n",
    "        <li class=\"\">\n",
    "            <a class=\"nav-link\">MLlib Example</a>\n",
    "        </li>\n",
    "        <li class=\"\">\n",
    "            <a class=\"nav-link\" href=\"ML Example.ipynb\">ML Example</a>\n",
    "        </li>"
   ]
  },
  {
   "cell_type": "markdown",
   "metadata": {
    "toc": "true"
   },
   "source": [
    "# Table of Contents\n",
    " <p><div class=\"lev1 toc-item\"><a href=\"#Import-useful-libraries\" data-toc-modified-id=\"Import-useful-libraries-1\"><span class=\"toc-item-num\">1&nbsp;&nbsp;</span>Import useful libraries</a></div><div class=\"lev1 toc-item\"><a href=\"#Data\" data-toc-modified-id=\"Data-2\"><span class=\"toc-item-num\">2&nbsp;&nbsp;</span>Data</a></div><div class=\"lev2 toc-item\"><a href=\"#Converting-our-DF-to-an-RDD\" data-toc-modified-id=\"Converting-our-DF-to-an-RDD-21\"><span class=\"toc-item-num\">2.1&nbsp;&nbsp;</span>Converting our DF to an RDD</a></div><div class=\"lev1 toc-item\"><a href=\"#Train/test-Split\" data-toc-modified-id=\"Train/test-Split-3\"><span class=\"toc-item-num\">3&nbsp;&nbsp;</span>Train/test Split</a></div><div class=\"lev1 toc-item\"><a href=\"#Random-Forest\" data-toc-modified-id=\"Random-Forest-4\"><span class=\"toc-item-num\">4&nbsp;&nbsp;</span>Random Forest</a></div><div class=\"lev1 toc-item\"><a href=\"#Logistic-Regression\" data-toc-modified-id=\"Logistic-Regression-5\"><span class=\"toc-item-num\">5&nbsp;&nbsp;</span>Logistic Regression</a></div><div class=\"lev2 toc-item\"><a href=\"#Convert-Using-SQLContext\" data-toc-modified-id=\"Convert-Using-SQLContext-51\"><span class=\"toc-item-num\">5.1&nbsp;&nbsp;</span>Convert Using SQLContext</a></div>"
   ]
  },
  {
   "cell_type": "markdown",
   "metadata": {},
   "source": [
    "# Import useful libraries"
   ]
  },
  {
   "cell_type": "code",
   "execution_count": 1,
   "metadata": {
    "ExecuteTime": {
     "end_time": "2017-03-07T17:08:44.984373",
     "start_time": "2017-03-07T17:08:44.391931"
    }
   },
   "outputs": [],
   "source": [
    "from datetime import datetime\n",
    "from dateutil.relativedelta import relativedelta\n",
    "import getopt\n",
    "import os\n",
    "import sys\n",
    "import urllib\n",
    "\n",
    "from IPython.core.display import display, HTML\n",
    "from IPython.core.magic import register_cell_magic, register_line_cell_magic, register_line_magic\n",
    "# If we want to move the graph\n",
    "# %matplotlib notebook\n",
    "%matplotlib inline\n",
    "import matplotlib as mpl\n",
    "import matplotlib.pyplot as plt\n",
    "import numpy as np\n",
    "import pandas as pd\n",
    "import pandas.io.sql as psql\n",
    "import psycopg2\n",
    "\n",
    "from pyspark.mllib.classification import LogisticRegressionModel, LogisticRegressionWithSGD\n",
    "from pyspark.mllib.linalg import SparseVector\n",
    "from pyspark.mllib.regression import LabeledPoint\n",
    "from pyspark.mllib.stat import Statistics\n",
    "from pyspark.mllib.tree import RandomForest, RandomForestModel\n",
    "from pyspark.mllib.util import MLUtils\n",
    "from pyspark.sql import DataFrame, Row, SQLContext\n",
    "from pyspark.sql.types import *\n",
    "\n",
    "import seaborn as sns"
   ]
  },
  {
   "cell_type": "code",
   "execution_count": 2,
   "metadata": {
    "ExecuteTime": {
     "end_time": "2017-03-07T17:08:45.463799",
     "start_time": "2017-03-07T17:08:44.985875"
    }
   },
   "outputs": [
    {
     "data": {
      "text/html": [
       "<script>logo = document.getElementById(\"kernel_logo_widget\").getElementsByClassName(\"current_kernel_logo\")[0];\n",
       "logo.src = \"https://github.com/crawles/Logos/blob/master/Pivotal_Python_138x40.png?raw=true\";\n",
       "logo.style = \"display: inline; width:138px; height:40px\";\n",
       "logo.innerHTML = '<a href=\"http://pivotal.io/data-science\">' + logo.innerHTML + '</a>';\n",
       "</script>"
      ],
      "text/plain": [
       "<IPython.core.display.HTML object>"
      ]
     },
     "execution_count": 2,
     "metadata": {},
     "output_type": "execute_result"
    }
   ],
   "source": [
    "# Changes logo to a Pivotal logo\n",
    "jPrefs = urllib.urlopen(\"https://raw.githubusercontent.com/crawles/Logos/master/jupyterPrefs.js\").read()\n",
    "HTML('<script>{}</script>'.format(jPrefs))"
   ]
  },
  {
   "cell_type": "code",
   "execution_count": 3,
   "metadata": {
    "ExecuteTime": {
     "end_time": "2017-03-07T17:08:45.497369",
     "start_time": "2017-03-07T17:08:45.465331"
    }
   },
   "outputs": [
    {
     "data": {
      "text/html": [
       "<style>.container {width:80% !important;}</style>"
      ],
      "text/plain": [
       "<IPython.core.display.HTML object>"
      ]
     },
     "metadata": {},
     "output_type": "display_data"
    }
   ],
   "source": [
    "# Set default cell width\n",
    "display(HTML('<style>.container {width:80% !important;}</style>'))\n",
    "\n",
    "# Set default matplotlib settings\n",
    "mpl.rcParams['figure.figsize'] = (10, 7)\n",
    "mpl.rcParams['lines.linewidth'] = 3\n",
    "mpl.rcParams['figure.titlesize'] = 26\n",
    "mpl.rcParams['axes.labelsize'] = 18\n",
    "mpl.rcParams['axes.titlesize'] = 22\n",
    "mpl.rcParams['xtick.labelsize'] = 14\n",
    "mpl.rcParams['ytick.labelsize'] = 14\n",
    "mpl.rcParams['legend.fontsize'] = 16\n",
    "\n",
    "# Set seaborn colours\n",
    "blue, green, red, purple, yellow, cyan = sns.color_palette()\n",
    "\n",
    "# Spark stuff\n",
    "sqlContext = SQLContext(sc)"
   ]
  },
  {
   "cell_type": "markdown",
   "metadata": {},
   "source": [
    "# Data"
   ]
  },
  {
   "cell_type": "code",
   "execution_count": 4,
   "metadata": {
    "ExecuteTime": {
     "end_time": "2017-03-07T17:08:45.543378",
     "start_time": "2017-03-07T17:08:45.498630"
    }
   },
   "outputs": [
    {
     "data": {
      "text/html": [
       "<div>\n",
       "<table border=\"1\" class=\"dataframe\">\n",
       "  <thead>\n",
       "    <tr style=\"text-align: right;\">\n",
       "      <th></th>\n",
       "      <th>sex</th>\n",
       "      <th>length</th>\n",
       "      <th>diameter</th>\n",
       "      <th>height</th>\n",
       "      <th>whole weight</th>\n",
       "      <th>shucked weight</th>\n",
       "      <th>viscera weight</th>\n",
       "      <th>shell weight</th>\n",
       "      <th>rings</th>\n",
       "    </tr>\n",
       "  </thead>\n",
       "  <tbody>\n",
       "    <tr>\n",
       "      <th>0</th>\n",
       "      <td>2</td>\n",
       "      <td>0.455</td>\n",
       "      <td>0.365</td>\n",
       "      <td>0.095</td>\n",
       "      <td>0.5140</td>\n",
       "      <td>0.2245</td>\n",
       "      <td>0.1010</td>\n",
       "      <td>0.150</td>\n",
       "      <td>15</td>\n",
       "    </tr>\n",
       "    <tr>\n",
       "      <th>1</th>\n",
       "      <td>2</td>\n",
       "      <td>0.350</td>\n",
       "      <td>0.265</td>\n",
       "      <td>0.090</td>\n",
       "      <td>0.2255</td>\n",
       "      <td>0.0995</td>\n",
       "      <td>0.0485</td>\n",
       "      <td>0.070</td>\n",
       "      <td>7</td>\n",
       "    </tr>\n",
       "    <tr>\n",
       "      <th>2</th>\n",
       "      <td>0</td>\n",
       "      <td>0.530</td>\n",
       "      <td>0.420</td>\n",
       "      <td>0.135</td>\n",
       "      <td>0.6770</td>\n",
       "      <td>0.2565</td>\n",
       "      <td>0.1415</td>\n",
       "      <td>0.210</td>\n",
       "      <td>9</td>\n",
       "    </tr>\n",
       "    <tr>\n",
       "      <th>3</th>\n",
       "      <td>2</td>\n",
       "      <td>0.440</td>\n",
       "      <td>0.365</td>\n",
       "      <td>0.125</td>\n",
       "      <td>0.5160</td>\n",
       "      <td>0.2155</td>\n",
       "      <td>0.1140</td>\n",
       "      <td>0.155</td>\n",
       "      <td>10</td>\n",
       "    </tr>\n",
       "    <tr>\n",
       "      <th>4</th>\n",
       "      <td>1</td>\n",
       "      <td>0.330</td>\n",
       "      <td>0.255</td>\n",
       "      <td>0.080</td>\n",
       "      <td>0.2050</td>\n",
       "      <td>0.0895</td>\n",
       "      <td>0.0395</td>\n",
       "      <td>0.055</td>\n",
       "      <td>7</td>\n",
       "    </tr>\n",
       "  </tbody>\n",
       "</table>\n",
       "</div>"
      ],
      "text/plain": [
       "   sex  length  diameter  height  whole weight  shucked weight  \\\n",
       "0    2   0.455     0.365   0.095        0.5140          0.2245   \n",
       "1    2   0.350     0.265   0.090        0.2255          0.0995   \n",
       "2    0   0.530     0.420   0.135        0.6770          0.2565   \n",
       "3    2   0.440     0.365   0.125        0.5160          0.2155   \n",
       "4    1   0.330     0.255   0.080        0.2050          0.0895   \n",
       "\n",
       "   viscera weight  shell weight  rings  \n",
       "0          0.1010         0.150     15  \n",
       "1          0.0485         0.070      7  \n",
       "2          0.1415         0.210      9  \n",
       "3          0.1140         0.155     10  \n",
       "4          0.0395         0.055      7  "
      ]
     },
     "execution_count": 4,
     "metadata": {},
     "output_type": "execute_result"
    }
   ],
   "source": [
    "column_names = [\"sex\", \"length\", \"diameter\", \"height\", \"whole weight\", \n",
    "                \"shucked weight\", \"viscera weight\", \"shell weight\", \"rings\"]\n",
    "abalone_df = pd.read_csv('abalone.csv', names=column_names)\n",
    "abalone_df['sex'] = abalone_df['sex'].map({'F': 0, 'I': 1, 'M': 2})\n",
    "abalone_df.head()"
   ]
  },
  {
   "cell_type": "markdown",
   "metadata": {},
   "source": [
    "## Converting our DF to an RDD\n",
    "Here, we take our DataFrame and convert it to a <code>np.array</code>. We can then run the <code>sc.parallelize</code> function on this to create our RDD."
   ]
  },
  {
   "cell_type": "code",
   "execution_count": 5,
   "metadata": {
    "ExecuteTime": {
     "end_time": "2017-03-07T17:08:46.520367",
     "start_time": "2017-03-07T17:08:45.545234"
    }
   },
   "outputs": [
    {
     "data": {
      "text/plain": [
       "[[2.0, 0.455, 0.365, 0.095, 0.514, 0.2245, 0.10099999999999999, 0.15, 15.0],\n",
       " [2.0, 0.35, 0.265, 0.09, 0.2255, 0.0995, 0.0485, 0.07, 7.0],\n",
       " [0.0, 0.53, 0.42, 0.135, 0.677, 0.2565, 0.1415, 0.21, 9.0],\n",
       " [2.0, 0.44, 0.365, 0.125, 0.516, 0.2155, 0.114, 0.155, 10.0],\n",
       " [1.0, 0.33, 0.255, 0.08, 0.205, 0.0895, 0.0395, 0.055, 7.0]]"
      ]
     },
     "execution_count": 5,
     "metadata": {},
     "output_type": "execute_result"
    }
   ],
   "source": [
    "ml_rdd = sc.parallelize(np.array(abalone_df).tolist())\n",
    "ml_rdd.take(5)"
   ]
  },
  {
   "cell_type": "markdown",
   "metadata": {},
   "source": [
    "Next, we map this to a <code>LabeledPoint</code>, where the first column, <code>sex</code>, is our label and the rest are features."
   ]
  },
  {
   "cell_type": "code",
   "execution_count": 6,
   "metadata": {
    "ExecuteTime": {
     "end_time": "2017-03-07T17:08:46.618516",
     "start_time": "2017-03-07T17:08:46.521991"
    }
   },
   "outputs": [
    {
     "data": {
      "text/plain": [
       "[LabeledPoint(2.0, [0.455,0.365,0.095,0.514,0.2245,0.101,0.15,15.0]),\n",
       " LabeledPoint(2.0, [0.35,0.265,0.09,0.2255,0.0995,0.0485,0.07,7.0]),\n",
       " LabeledPoint(0.0, [0.53,0.42,0.135,0.677,0.2565,0.1415,0.21,9.0]),\n",
       " LabeledPoint(2.0, [0.44,0.365,0.125,0.516,0.2155,0.114,0.155,10.0]),\n",
       " LabeledPoint(1.0, [0.33,0.255,0.08,0.205,0.0895,0.0395,0.055,7.0]),\n",
       " LabeledPoint(1.0, [0.425,0.3,0.095,0.3515,0.141,0.0775,0.12,8.0]),\n",
       " LabeledPoint(0.0, [0.53,0.415,0.15,0.7775,0.237,0.1415,0.33,20.0]),\n",
       " LabeledPoint(0.0, [0.545,0.425,0.125,0.768,0.294,0.1495,0.26,16.0]),\n",
       " LabeledPoint(2.0, [0.475,0.37,0.125,0.5095,0.2165,0.1125,0.165,9.0]),\n",
       " LabeledPoint(0.0, [0.55,0.44,0.15,0.8945,0.3145,0.151,0.32,19.0])]"
      ]
     },
     "execution_count": 6,
     "metadata": {},
     "output_type": "execute_result"
    }
   ],
   "source": [
    "ml_rdd = ml_rdd.map(lambda x: LabeledPoint(x[0], x[1:]))\n",
    "ml_rdd.take(10)"
   ]
  },
  {
   "cell_type": "markdown",
   "metadata": {},
   "source": [
    "# Train/test Split"
   ]
  },
  {
   "cell_type": "markdown",
   "metadata": {},
   "source": [
    "Here, we split up our data into a training and test set. We can do this by creating a random column and filtering on it."
   ]
  },
  {
   "cell_type": "code",
   "execution_count": 7,
   "metadata": {
    "ExecuteTime": {
     "end_time": "2017-03-07T17:08:46.646027",
     "start_time": "2017-03-07T17:08:46.619879"
    },
    "collapsed": true
   },
   "outputs": [],
   "source": [
    "train_rdd, test_rdd = ml_rdd.randomSplit([0.8, 0.2])"
   ]
  },
  {
   "cell_type": "code",
   "execution_count": 8,
   "metadata": {
    "ExecuteTime": {
     "end_time": "2017-03-07T17:08:46.738711",
     "start_time": "2017-03-07T17:08:46.647374"
    }
   },
   "outputs": [
    {
     "data": {
      "text/plain": [
       "[LabeledPoint(2.0, [0.455,0.365,0.095,0.514,0.2245,0.101,0.15,15.0]),\n",
       " LabeledPoint(2.0, [0.35,0.265,0.09,0.2255,0.0995,0.0485,0.07,7.0]),\n",
       " LabeledPoint(0.0, [0.53,0.42,0.135,0.677,0.2565,0.1415,0.21,9.0]),\n",
       " LabeledPoint(1.0, [0.33,0.255,0.08,0.205,0.0895,0.0395,0.055,7.0]),\n",
       " LabeledPoint(1.0, [0.425,0.3,0.095,0.3515,0.141,0.0775,0.12,8.0])]"
      ]
     },
     "execution_count": 8,
     "metadata": {},
     "output_type": "execute_result"
    }
   ],
   "source": [
    "train_rdd.take(5)"
   ]
  },
  {
   "cell_type": "code",
   "execution_count": 9,
   "metadata": {
    "ExecuteTime": {
     "end_time": "2017-03-07T17:08:46.832912",
     "start_time": "2017-03-07T17:08:46.740035"
    }
   },
   "outputs": [
    {
     "data": {
      "text/plain": [
       "[LabeledPoint(2.0, [0.44,0.365,0.125,0.516,0.2155,0.114,0.155,10.0]),\n",
       " LabeledPoint(0.0, [0.545,0.425,0.125,0.768,0.294,0.1495,0.26,16.0]),\n",
       " LabeledPoint(2.0, [0.49,0.38,0.135,0.5415,0.2175,0.095,0.19,11.0]),\n",
       " LabeledPoint(0.0, [0.535,0.405,0.145,0.6845,0.2725,0.171,0.205,10.0]),\n",
       " LabeledPoint(0.0, [0.44,0.34,0.1,0.451,0.188,0.087,0.13,10.0])]"
      ]
     },
     "execution_count": 9,
     "metadata": {},
     "output_type": "execute_result"
    }
   ],
   "source": [
    "test_rdd.take(5)"
   ]
  },
  {
   "cell_type": "markdown",
   "metadata": {},
   "source": [
    "# Random Forest\n",
    "\n",
    "Now, we can plug in our ml_rdd into a random forest classifier."
   ]
  },
  {
   "cell_type": "code",
   "execution_count": 10,
   "metadata": {
    "ExecuteTime": {
     "end_time": "2017-03-07T17:08:49.188588",
     "start_time": "2017-03-07T17:08:46.834241"
    }
   },
   "outputs": [],
   "source": [
    "rf_model = RandomForest.trainClassifier(train_rdd, 3, categoricalFeaturesInfo={}, numTrees=50)"
   ]
  },
  {
   "cell_type": "markdown",
   "metadata": {},
   "source": [
    "Next, we use the <code>predict</code> function to get our mode predictions. We can also use the <code>zip</code> function to append the labels to the predictions."
   ]
  },
  {
   "cell_type": "code",
   "execution_count": 11,
   "metadata": {
    "ExecuteTime": {
     "end_time": "2017-03-07T17:08:49.335761",
     "start_time": "2017-03-07T17:08:49.189772"
    }
   },
   "outputs": [
    {
     "data": {
      "text/plain": [
       "[(2.0, 1.0),\n",
       " (0.0, 2.0),\n",
       " (2.0, 1.0),\n",
       " (0.0, 2.0),\n",
       " (0.0, 1.0),\n",
       " (2.0, 1.0),\n",
       " (0.0, 2.0),\n",
       " (0.0, 2.0),\n",
       " (2.0, 1.0),\n",
       " (0.0, 2.0)]"
      ]
     },
     "execution_count": 11,
     "metadata": {},
     "output_type": "execute_result"
    }
   ],
   "source": [
    "preds = rf_model.predict(test_rdd.map(lambda x: x.features))\n",
    "results_rdd =  test_rdd.map(lambda x: x.label).zip(preds)\n",
    "results_rdd.take(10)"
   ]
  },
  {
   "cell_type": "code",
   "execution_count": 12,
   "metadata": {
    "ExecuteTime": {
     "end_time": "2017-03-07T17:08:49.569899",
     "start_time": "2017-03-07T17:08:49.337104"
    }
   },
   "outputs": [
    {
     "data": {
      "text/plain": [
       "0.5266903914590748"
      ]
     },
     "execution_count": 12,
     "metadata": {},
     "output_type": "execute_result"
    }
   ],
   "source": [
    "results_rdd.map(lambda x: int(x[0] == x[1])).mean()"
   ]
  },
  {
   "cell_type": "markdown",
   "metadata": {
    "ExecuteTime": {
     "end_time": "2016-12-08T10:53:02.625923",
     "start_time": "2016-12-08T10:53:02.564347"
    }
   },
   "source": [
    "# Logistic Regression\n",
    "Now we will apply a logistic regresison model. We need a binary variable, however, so we will predict whether <code>rings</code> is greater than 14. This first requires us to transform the <code>rings</code> variable to a binary indicator."
   ]
  },
  {
   "cell_type": "code",
   "execution_count": 13,
   "metadata": {
    "ExecuteTime": {
     "end_time": "2017-03-07T17:08:49.598921",
     "start_time": "2017-03-07T17:08:49.571195"
    }
   },
   "outputs": [],
   "source": [
    "log_rdd = ml_rdd.map(lambda x: LabeledPoint(x.label, x.features[1:-1].tolist() + [int(x.features[-1] > 14)]))\n",
    "log_rdd = ml_rdd.map(lambda x: LabeledPoint(int(x.features[-1] > 14), [x.label] + x.features[1:-1].tolist()))"
   ]
  },
  {
   "cell_type": "code",
   "execution_count": 14,
   "metadata": {
    "ExecuteTime": {
     "end_time": "2017-03-07T17:08:49.675172",
     "start_time": "2017-03-07T17:08:49.600430"
    }
   },
   "outputs": [
    {
     "data": {
      "text/plain": [
       "[LabeledPoint(1.0, [2.0,0.365,0.095,0.514,0.2245,0.101,0.15]),\n",
       " LabeledPoint(0.0, [2.0,0.265,0.09,0.2255,0.0995,0.0485,0.07]),\n",
       " LabeledPoint(0.0, [0.0,0.42,0.135,0.677,0.2565,0.1415,0.21]),\n",
       " LabeledPoint(0.0, [2.0,0.365,0.125,0.516,0.2155,0.114,0.155]),\n",
       " LabeledPoint(0.0, [1.0,0.255,0.08,0.205,0.0895,0.0395,0.055])]"
      ]
     },
     "execution_count": 14,
     "metadata": {},
     "output_type": "execute_result"
    }
   ],
   "source": [
    "log_rdd.take(5)"
   ]
  },
  {
   "cell_type": "code",
   "execution_count": 15,
   "metadata": {
    "ExecuteTime": {
     "end_time": "2017-03-07T17:08:49.703246",
     "start_time": "2017-03-07T17:08:49.676448"
    }
   },
   "outputs": [],
   "source": [
    "train_rdd, test_rdd = log_rdd.randomSplit([0.8, 0.2])"
   ]
  },
  {
   "cell_type": "code",
   "execution_count": 16,
   "metadata": {
    "ExecuteTime": {
     "end_time": "2017-03-07T17:08:54.691180",
     "start_time": "2017-03-07T17:08:49.704418"
    }
   },
   "outputs": [],
   "source": [
    "log_model = LogisticRegressionWithSGD.train(train_rdd, regType='l1', intercept=True)"
   ]
  },
  {
   "cell_type": "code",
   "execution_count": 17,
   "metadata": {
    "ExecuteTime": {
     "end_time": "2017-03-07T17:08:54.870008",
     "start_time": "2017-03-07T17:08:54.692479"
    }
   },
   "outputs": [
    {
     "data": {
      "text/plain": [
       "[(0.0, 0),\n",
       " (0.0, 0),\n",
       " (0.0, 0),\n",
       " (0.0, 0),\n",
       " (0.0, 0),\n",
       " (0.0, 0),\n",
       " (0.0, 0),\n",
       " (0.0, 0),\n",
       " (0.0, 0),\n",
       " (0.0, 0)]"
      ]
     },
     "execution_count": 17,
     "metadata": {},
     "output_type": "execute_result"
    }
   ],
   "source": [
    "preds = log_model.predict(test_rdd.map(lambda x: x.features))\n",
    "results_rdd = test_rdd.map(lambda x: x.label).zip(preds)\n",
    "results_rdd.take(10)"
   ]
  },
  {
   "cell_type": "code",
   "execution_count": 18,
   "metadata": {
    "ExecuteTime": {
     "end_time": "2017-03-07T17:08:55.038074",
     "start_time": "2017-03-07T17:08:54.871436"
    }
   },
   "outputs": [
    {
     "data": {
      "text/plain": [
       "0.9134045077105575"
      ]
     },
     "execution_count": 18,
     "metadata": {},
     "output_type": "execute_result"
    }
   ],
   "source": [
    "results_rdd.map(lambda x: int(x[0] == x[1])).mean()"
   ]
  },
  {
   "cell_type": "markdown",
   "metadata": {
    "ExecuteTime": {
     "end_time": "2016-12-08T10:22:28.891778",
     "start_time": "2016-12-08T10:22:28.840287"
    },
    "collapsed": true
   },
   "source": [
    "## Convert Using SQLContext\n",
    "We can convert this into a DataFrame then convert it to an RDD of LabeledPoints"
   ]
  },
  {
   "cell_type": "code",
   "execution_count": 19,
   "metadata": {
    "ExecuteTime": {
     "end_time": "2017-03-07T17:08:55.715922",
     "start_time": "2017-03-07T17:08:55.039945"
    }
   },
   "outputs": [],
   "source": [
    "spark_df = sqlContext.createDataFrame(abalone_df)"
   ]
  },
  {
   "cell_type": "code",
   "execution_count": 20,
   "metadata": {
    "ExecuteTime": {
     "end_time": "2017-03-07T17:08:55.839782",
     "start_time": "2017-03-07T17:08:55.717252"
    }
   },
   "outputs": [
    {
     "data": {
      "text/plain": [
       "[Row(sex=2, length=0.455, diameter=0.365, height=0.095, whole weight=0.514, shucked weight=0.2245, viscera weight=0.10099999999999999, shell weight=0.15, rings=15),\n",
       " Row(sex=2, length=0.35, diameter=0.265, height=0.09, whole weight=0.2255, shucked weight=0.0995, viscera weight=0.0485, shell weight=0.07, rings=7),\n",
       " Row(sex=0, length=0.53, diameter=0.42, height=0.135, whole weight=0.677, shucked weight=0.2565, viscera weight=0.1415, shell weight=0.21, rings=9),\n",
       " Row(sex=2, length=0.44, diameter=0.365, height=0.125, whole weight=0.516, shucked weight=0.2155, viscera weight=0.114, shell weight=0.155, rings=10),\n",
       " Row(sex=1, length=0.33, diameter=0.255, height=0.08, whole weight=0.205, shucked weight=0.0895, viscera weight=0.0395, shell weight=0.055, rings=7)]"
      ]
     },
     "execution_count": 20,
     "metadata": {},
     "output_type": "execute_result"
    }
   ],
   "source": [
    "spark_df.take(5)"
   ]
  },
  {
   "cell_type": "code",
   "execution_count": 21,
   "metadata": {
    "ExecuteTime": {
     "end_time": "2017-03-07T17:08:55.947945",
     "start_time": "2017-03-07T17:08:55.841092"
    }
   },
   "outputs": [
    {
     "data": {
      "text/plain": [
       "[LabeledPoint(2.0, [0.455,0.365,0.095,0.514,0.2245,0.101,0.15,15.0]),\n",
       " LabeledPoint(2.0, [0.35,0.265,0.09,0.2255,0.0995,0.0485,0.07,7.0]),\n",
       " LabeledPoint(0.0, [0.53,0.42,0.135,0.677,0.2565,0.1415,0.21,9.0]),\n",
       " LabeledPoint(2.0, [0.44,0.365,0.125,0.516,0.2155,0.114,0.155,10.0]),\n",
       " LabeledPoint(1.0, [0.33,0.255,0.08,0.205,0.0895,0.0395,0.055,7.0])]"
      ]
     },
     "execution_count": 21,
     "metadata": {},
     "output_type": "execute_result"
    }
   ],
   "source": [
    "# In Spark version 2.x, we must use the .rdd command.\n",
    "# In earlier versions of spark, we can simply do spark_df.map()\n",
    "spark_df.rdd.map(lambda x: LabeledPoint(x.sex, x[1:])).take(5)"
   ]
  }
 ],
 "metadata": {
  "anaconda-cloud": {},
  "hide_input": false,
  "kernelspec": {
   "display_name": "Python 2",
   "language": "python",
   "name": "python2"
  },
  "language_info": {
   "codemirror_mode": {
    "name": "ipython",
    "version": 2
   },
   "file_extension": ".py",
   "mimetype": "text/x-python",
   "name": "python",
   "nbconvert_exporter": "python",
   "pygments_lexer": "ipython2",
   "version": "2.7.13"
  },
  "nav_menu": {
   "height": "304px",
   "width": "188px"
  },
  "toc": {
   "colors": {
    "hover_highlight": "#DAA520",
    "navigate_num": "#000000",
    "navigate_text": "#333333",
    "running_highlight": "#FF0000",
    "selected_highlight": "#FFD700",
    "sidebar_border": "#EEEEEE",
    "wrapper_background": "#FFFFFF"
   },
   "moveMenuLeft": true,
   "nav_menu": {
    "height": "138px",
    "width": "252px"
   },
   "navigate_menu": true,
   "number_sections": true,
   "sideBar": true,
   "threshold": 4,
   "toc_cell": true,
   "toc_section_display": "block",
   "toc_window_display": true,
   "widenNotebook": false
  },
  "toc_position": {
   "height": "983px",
   "left": "0px",
   "right": "auto",
   "top": "106px",
   "width": "212px"
  }
 },
 "nbformat": 4,
 "nbformat_minor": 1
}
